{
 "cells": [
  {
   "cell_type": "code",
   "execution_count": 1,
   "metadata": {
    "collapsed": true
   },
   "outputs": [],
   "source": [
    "# import relevant modules\n",
    "import numpy as np\n",
    "import matplotlib.pyplot as plt\n",
    "import matplotlib\n",
    "import time\n",
    "import sys\n",
    "%matplotlib inline\n",
    "\n",
    "from scipy.special import (i1, i0, hyp1f1)\n",
    "from scipy.optimize import brentq\n",
    "from dipy.core.sphere import disperse_charges, HemiSphere\n",
    "from dipy.core.gradients import gradient_table\n",
    "from dipy.sims.voxel import multi_tensor\n",
    "import dipy.reconst.dti as dti\n",
    "import dipy.reconst.dki as dki\n",
    "\n",
    "from dipy.sims.voxel import (multi_tensor, _add_gaussian, _add_rician,\n",
    "                             _add_rayleigh)\n",
    "\n",
    "from pca_utils import (rfiw_phantom, mp_distribution,\n",
    "                       fiber_segments_phantom, evaluate_directions,\n",
    "                       evaluate_metric, pca_noise_classifier,\n",
    "                       pca_denoising)"
   ]
  },
  {
   "cell_type": "code",
   "execution_count": 2,
   "metadata": {
    "collapsed": true
   },
   "outputs": [],
   "source": [
    "# ---------------------------------------------------------------\n",
    "# acquisition parameters\n",
    "# ---------------------------------------------------------------\n",
    "\n",
    "# Sample 8 diffusion-weighted directions for first shell\n",
    "n_pts = 8\n",
    "theta = np.pi * np.random.rand(n_pts)\n",
    "phi = 2 * np.pi * np.random.rand(n_pts)\n",
    "hsph_initial = HemiSphere(theta=theta, phi=phi)\n",
    "hsph_updated, potential = disperse_charges(hsph_initial, 5000)\n",
    "directions8 = hsph_updated.vertices  # directions for each shell\n",
    "\n",
    "# Sample 30 diffusion-weighted directions for second shell\n",
    "n_pts = 30\n",
    "theta = np.pi * np.random.rand(n_pts)\n",
    "phi = 2 * np.pi * np.random.rand(n_pts)\n",
    "hsph_initial = HemiSphere(theta=theta, phi=phi)\n",
    "hsph_updated, potential = disperse_charges(hsph_initial, 50000)\n",
    "directions30 = hsph_updated.vertices  # directions for each shell\n",
    "\n",
    "# Sample 60 diffusion-weighted directions for second shell\n",
    "n_pts = 60\n",
    "theta = np.pi * np.random.rand(n_pts)\n",
    "phi = 2 * np.pi * np.random.rand(n_pts)\n",
    "hsph_initial = HemiSphere(theta=theta, phi=phi)\n",
    "hsph_updated, potential = disperse_charges(hsph_initial, 50000)\n",
    "directions60 = hsph_updated.vertices  # directions for each shell\n",
    "\n",
    "# Create full dataset parameters\n",
    "bvals = np.hstack((np.zeros(6), 300 * np.ones(8),\n",
    "                   1000 * np.ones(30), 2000 * np.ones(60)))\n",
    "bvecs = np.vstack((np.zeros((6, 3)), directions8, directions30, directions60))\n",
    "gtab = gradient_table(bvals, bvecs)"
   ]
  },
  {
   "cell_type": "code",
   "execution_count": 3,
   "metadata": {
    "collapsed": true
   },
   "outputs": [],
   "source": [
    "dtiM = dti.TensorModel(gtab)\n",
    "dkiM = dki.DiffusionKurtosisModel(gtab)"
   ]
  },
  {
   "cell_type": "code",
   "execution_count": 14,
   "metadata": {
    "collapsed": true
   },
   "outputs": [],
   "source": [
    "def _normalized_rician_expected_value(snr):\n",
    "    \"\"\"\n",
    "    Computes the rician expected intensity normalized by the\n",
    "    noise standard deviation given the signal ground truth.\n",
    "\n",
    "    Parameters\n",
    "    ----------\n",
    "    signal : array\n",
    "        Containing ground truth signal to convert to expected values\n",
    "    sigma : float or array\n",
    "        Containing ground truth sigma\n",
    "\n",
    "    Returns\n",
    "    -------\n",
    "    esignal : array\n",
    "       Rician expected values for the given ground truth signals\n",
    "    \"\"\"\n",
    "    return np.sqrt(0.5*np.pi) * hyp1f1(-0.5, 1.0, -0.5*(snr)**2)"
   ]
  },
  {
   "cell_type": "code",
   "execution_count": 15,
   "metadata": {
    "collapsed": true
   },
   "outputs": [],
   "source": [
    "def _rician_error(snr, esnr):\n",
    "    return esnr - _normalized_rician_expected_value(snr)"
   ]
  },
  {
   "cell_type": "code",
   "execution_count": 16,
   "metadata": {
    "collapsed": true
   },
   "outputs": [],
   "source": [
    "def rician_gt_value(esignal, sigma):\n",
    "    \"\"\"\n",
    "    Computes the noise free intensity given the rician biases signal\n",
    "    and the ground truth noise standard deviation.\n",
    "\n",
    "    Parameters\n",
    "    ----------\n",
    "    esignal : array\n",
    "        Containing rician biased signal\n",
    "    sigma : float or array\n",
    "        Containing ground truth sigma\n",
    "\n",
    "    Returns\n",
    "    -------\n",
    "    esigma : array\n",
    "       Ground truth bias free signal\n",
    "    \"\"\"\n",
    "    esnrmin = _normalized_rician_expected_value(0)\n",
    "    esnr = esignal * 1.0/ sigma\n",
    "    if esnr < esnrmin:\n",
    "        snr = 0\n",
    "    else:\n",
    "        snr = brentq(_rician_error, 0, esignal * 1.0/ sigma, args=(esignal * 1.0/ sigma))\n",
    "    return snr * sigma"
   ]
  },
  {
   "cell_type": "code",
   "execution_count": 17,
   "metadata": {
    "collapsed": true
   },
   "outputs": [],
   "source": [
    "def rician_correction(dwi, sigma):\n",
    "    \"\"\" Correct Rician bias of DWI volumes\n",
    "\n",
    "    Parameters\n",
    "    ----------\n",
    "    dwi : array ([X, Y, Z, g])\n",
    "        Matrix containing the 4D DWI data.\n",
    "    sigma : float\n",
    "        Estimate of the noise std\n",
    "\n",
    "    Returns\n",
    "    -------\n",
    "    den : array ([X, Y, Z, g])\n",
    "        Matrix containing the corrected 4D DWI data.\n",
    "    \"\"\"\n",
    "    den = dwi.copy()\n",
    "    for g in range(dwi.shape[3]):\n",
    "        for k in range(dwi.shape[2]):\n",
    "            for j in range(dwi.shape[1]):\n",
    "                for i in range(dwi.shape[0]):\n",
    "                    # Compute eigenvalues for sliding window\n",
    "                    x = dwi[i, j, k, g]\n",
    "                    den[i, j, k, g] =  rician_gt_value(x, sigma)\n",
    "    return den"
   ]
  },
  {
   "cell_type": "code",
   "execution_count": 18,
   "metadata": {
    "collapsed": false
   },
   "outputs": [],
   "source": [
    "# initialize\n",
    "fsigmas = np.array([40.0, 30.0, 20.0, 10.0])\n",
    "dir1 = np.zeros(fsigmas.size)\n",
    "dir2 = np.zeros(dir1.shape)\n",
    "dir3 = np.zeros(dir1.shape)\n",
    "fa1 = np.zeros(dir1.shape)\n",
    "fa2 = np.zeros(dir1.shape)\n",
    "fa3 = np.zeros(dir1.shape)\n",
    "md1 = np.zeros(dir1.shape)\n",
    "md2 = np.zeros(dir1.shape)\n",
    "md3 = np.zeros(dir1.shape)\n",
    "mk1 = np.zeros(dir1.shape)\n",
    "mk2 = np.zeros(dir1.shape)\n",
    "mk3 = np.zeros(dir1.shape)\n",
    "\n",
    "dir10 = np.zeros(dir1.shape)\n",
    "dir20 = np.zeros(dir1.shape)\n",
    "dir30 = np.zeros(dir1.shape)\n",
    "fa10 = np.zeros(dir1.shape)\n",
    "fa20 = np.zeros(dir1.shape)\n",
    "fa30 = np.zeros(dir1.shape)\n",
    "md10 = np.zeros(dir1.shape)\n",
    "md20 = np.zeros(dir1.shape)\n",
    "md30 = np.zeros(dir1.shape)\n",
    "mk10 = np.zeros(dir1.shape)\n",
    "mk20 = np.zeros(dir1.shape)\n",
    "mk30 = np.zeros(dir1.shape)\n",
    "\n",
    "fa_rician = np.zeros(dir1.shape)\n",
    "md_rician = np.zeros(dir1.shape)\n",
    "mk_rician = np.zeros(dir1.shape)\n",
    "\n",
    "fa_gt = np.zeros(dir1.shape)\n",
    "md_gt = np.zeros(dir1.shape)\n",
    "mk_gt = np.zeros(dir1.shape)\n",
    "\n",
    "snr = 15\n",
    "sigma = 50.0 /snr\n",
    "\n",
    "for p in range(4):\n",
    "    # ground truth is now the average of rician noise data\n",
    "    Phantom = fiber_segments_phantom(gtab, fsigmas[p])\n",
    "\n",
    "    dtiFgt0 = dtiM.fit(Phantom)\n",
    "    FAgt0 = dtiFgt0.fa\n",
    "    fa_gt[p] = np.mean(FAgt0[2:-2, 2:-2, 2:-2])\n",
    "    MDgt0 = dtiFgt0.md\n",
    "    md_gt[p] = np.mean(MDgt0[2:-2, 2:-2, 2:-2])\n",
    "    directionsgt0 = dtiFgt0.directions\n",
    "    dkiFgt0 = dkiM.fit(Phantom)\n",
    "    MKgt0 = dkiFgt0.mk()\n",
    "    mk_gt[p] = np.mean(MKgt0[2:-2, 2:-2, 2:-2])\n",
    "\n",
    "    n1 = np.random.normal(0, sigma, size=Phantom.shape)\n",
    "    n2 = np.random.normal(0, sigma, size=Phantom.shape)\n",
    "    Phantom_gt = _add_rician(Phantom.copy(), n1, n2)\n",
    "    \n",
    "    for rep in range(9):\n",
    "        # add noise\n",
    "        n1 = np.random.normal(0, sigma, size=Phantom.shape)\n",
    "        n2 = np.random.normal(0, sigma, size=Phantom.shape)\n",
    "        Phantom_gt = Phantom_gt + _add_rician(Phantom.copy(), n1, n2)\n",
    "    Phantom_gt = Phantom_gt / 10\n",
    "    \n",
    "    dtiFgt1 = dtiM.fit(Phantom_gt)\n",
    "    FAgt1 = dtiFgt1.fa\n",
    "    fa_rician[p] = np.mean(FAgt1[2:-2, 2:-2, 2:-2])\n",
    "    MDgt1 = dtiFgt1.md\n",
    "    md_rician[p] = np.mean(MDgt1[2:-2, 2:-2, 2:-2])\n",
    "    directionsgt1 = dtiFgt1.directions\n",
    "    dkiFgt1 = dkiM.fit(Phantom_gt)\n",
    "    MKgt1 = dkiFgt1.mk()\n",
    "    mk_rician[p] = np.mean(MKgt1[2:-2, 2:-2, 2:-2])\n",
    "\n",
    "    # add noise\n",
    "    n1 = np.random.normal(0, sigma, size=Phantom.shape)\n",
    "    n2 = np.random.normal(0, sigma, size=Phantom.shape)\n",
    "    Phantom_noise = _add_rician(Phantom.copy(), n1, n2)\n",
    "\n",
    "    # denoise and compare\n",
    "    [Pden, sig, ncomps] = pca_denoising(Phantom_noise.copy(), ps=2, overcomplete=True)\n",
    "    dtiF = dtiM.fit(Pden)\n",
    "    FA = dtiF.fa\n",
    "    MD = dtiF.md\n",
    "    directions = dtiF.directions\n",
    "    dkiF = dkiM.fit(Pden)\n",
    "    MK = dkiF.mk()\n",
    "    p1, p2, p3 = evaluate_directions(directions[2:-2, 2:-2, 2:-2], directionsgt1[2:-2, 2:-2, 2:-2])\n",
    "    dir10[p] = p1\n",
    "    dir20[p] = p2\n",
    "    dir30[p] = p3\n",
    "    zzz = np.zeros(FAgt1[2:-2, 2:-2, 2:-2].shape)\n",
    "    p1, p2, p3 = evaluate_metric(FA[2:-2, 2:-2, 2:-2], zzz)\n",
    "    fa10[p] = p1\n",
    "    fa20[p] = p2\n",
    "    fa30[p] = p3\n",
    "    p1, p2, p3 = evaluate_metric(MD[2:-2, 2:-2, 2:-2], zzz)\n",
    "    md10[p] = p1\n",
    "    md20[p] = p2\n",
    "    md30[p] = p3\n",
    "    p1, p2, p3 = evaluate_metric(MK[2:-2, 2:-2, 2:-2], zzz)\n",
    "    mk10[p] = p1\n",
    "    mk20[p] = p2\n",
    "    mk30[p] = p3\n",
    "    \n",
    "    # rician correction and compare\n",
    "    Pdenrician = rician_correction(Pden, sigma)\n",
    "    dtiF = dtiM.fit(Pdenrician)\n",
    "    FA = dtiF.fa\n",
    "    MD = dtiF.md\n",
    "    directions = dtiF.directions\n",
    "    dkiF = dkiM.fit(Pdenrician)\n",
    "    MK = dkiF.mk()\n",
    "    p1, p2, p3 = evaluate_directions(directions[2:-2, 2:-2, 2:-2], directionsgt0[2:-2, 2:-2, 2:-2])\n",
    "    dir1[p] = p1\n",
    "    dir2[p] = p2\n",
    "    dir3[p] = p3\n",
    "    p1, p2, p3 = evaluate_metric(FA[2:-2, 2:-2, 2:-2], zzz)\n",
    "    fa1[p] = p1\n",
    "    fa2[p] = p2\n",
    "    fa3[p] = p3\n",
    "    p1, p2, p3 = evaluate_metric(MD[2:-2, 2:-2, 2:-2], zzz)\n",
    "    md1[p] = p1\n",
    "    md2[p] = p2\n",
    "    md3[p] = p3\n",
    "    p1, p2, p3 = evaluate_metric(MK[2:-2, 2:-2, 2:-2], zzz)\n",
    "    mk1[p] = p1\n",
    "    mk2[p] = p2\n",
    "    mk3[p] = p3"
   ]
  },
  {
   "cell_type": "code",
   "execution_count": 25,
   "metadata": {
    "collapsed": false
   },
   "outputs": [
    {
     "data": {
      "text/plain": [
       "<Container object of 3 artists>"
      ]
     },
     "execution_count": 25,
     "metadata": {},
     "output_type": "execute_result"
    },
    {
     "data": {
      "image/png": "[encoded data removed]",
      "text/plain": [
       "<matplotlib.figure.Figure at 0xd9129b0>"
      ]
     },
     "metadata": {},
     "output_type": "display_data"
    }
   ],
   "source": [
    "fig2, ax = plt.subplots(1, 2, figsize=(12, 6))\n",
    "ax.flat[0].set_title('Dir error (no rician correction)')\n",
    "ax.flat[0].errorbar(fsigmas, dir10, yerr=[dir20, dir30])\n",
    "ax.flat[1].set_title('Dir error (rician correction)')\n",
    "ax.flat[1].errorbar(fsigmas, dir1, yerr=[dir2, dir3])"
   ]
  },
  {
   "cell_type": "code",
   "execution_count": 28,
   "metadata": {
    "collapsed": false
   },
   "outputs": [
    {
     "data": {
      "text/plain": [
       "(0, 50)"
      ]
     },
     "execution_count": 28,
     "metadata": {},
     "output_type": "execute_result"
    },
    {
     "data": {
      "image/png": "[encoded data removed]",
      "text/plain": [
       "<matplotlib.figure.Figure at 0xdb3f3c8>"
      ]
     },
     "metadata": {},
     "output_type": "display_data"
    }
   ],
   "source": [
    "fig2, ax = plt.subplots(1, 2, figsize=(12, 6))\n",
    "ax.flat[0].set_title('FA (no rician correction)')\n",
    "ax.flat[0].plot(fsigmas, fa_gt, 'black')\n",
    "ax.flat[0].plot(fsigmas, fa_rician, 'r')\n",
    "ax.flat[0].errorbar(fsigmas, fa10, yerr=[fa20, fa30])\n",
    "ax.flat[0].set_ylim([0.8, 0.9])\n",
    "ax.flat[0].set_xlim([0, 50])\n",
    "ax.flat[1].set_title('FA (rician correction)')\n",
    "ax.flat[1].plot(fsigmas, fa_gt, 'black')\n",
    "ax.flat[1].plot(fsigmas, fa_rician, 'r')\n",
    "ax.flat[1].errorbar(fsigmas, fa1, yerr=[fa2, fa3])\n",
    "ax.flat[1].set_ylim([0.8, 0.9])\n",
    "ax.flat[1].set_xlim([0, 50])"
   ]
  },
  {
   "cell_type": "code",
   "execution_count": 31,
   "metadata": {
    "collapsed": false
   },
   "outputs": [
    {
     "data": {
      "text/plain": [
       "(0, 50)"
      ]
     },
     "execution_count": 31,
     "metadata": {},
     "output_type": "execute_result"
    },
    {
     "data": {
      "image/png": "[encoded data removed]",
      "text/plain": [
       "<matplotlib.figure.Figure at 0xaf799b0>"
      ]
     },
     "metadata": {},
     "output_type": "display_data"
    }
   ],
   "source": [
    "fig2, ax = plt.subplots(1, 2, figsize=(12, 6))\n",
    "ax.flat[0].set_title('MD (no rician correction)')\n",
    "ax.flat[0].plot(fsigmas, md_gt, 'black')\n",
    "ax.flat[0].plot(fsigmas, md_rician, 'r')\n",
    "ax.flat[0].errorbar(fsigmas, md10, yerr=[md20, md30])\n",
    "ax.flat[0].set_ylim([0.4e-3, 0.6e-3])\n",
    "ax.flat[0].set_xlim([0, 50])\n",
    "ax.flat[1].set_title('MD (rician correction)')\n",
    "ax.flat[1].plot(fsigmas, md_gt, 'black')\n",
    "ax.flat[1].plot(fsigmas, md_rician, 'r')\n",
    "ax.flat[1].errorbar(fsigmas, md1, yerr=[md2, md3])\n",
    "ax.flat[1].set_ylim([0.4e-3, 0.6e-3])\n",
    "ax.flat[1].set_xlim([0, 50])"
   ]
  },
  {
   "cell_type": "code",
   "execution_count": 34,
   "metadata": {
    "collapsed": false
   },
   "outputs": [
    {
     "data": {
      "text/plain": [
       "(0, 50)"
      ]
     },
     "execution_count": 34,
     "metadata": {},
     "output_type": "execute_result"
    },
    {
     "data": {
      "image/png": "[encoded data removed]",
      "text/plain": [
       "<matplotlib.figure.Figure at 0xd5bc208>"
      ]
     },
     "metadata": {},
     "output_type": "display_data"
    }
   ],
   "source": [
    "fig2, ax = plt.subplots(1, 2, figsize=(12, 6))\n",
    "ax.flat[0].set_title('MK (no rician correction)')\n",
    "ax.flat[0].plot(fsigmas, mk_gt, 'black')\n",
    "ax.flat[0].plot(fsigmas, mk_rician, 'r')\n",
    "ax.flat[0].errorbar(fsigmas, mk10, yerr=[mk20, mk30])\n",
    "ax.flat[0].set_ylim([1, 2])\n",
    "ax.flat[0].set_xlim([0, 50])\n",
    "\n",
    "ax.flat[1].set_title('MK (rician correction)')\n",
    "ax.flat[1].plot(fsigmas, mk_gt, 'black')\n",
    "ax.flat[1].plot(fsigmas, mk_rician, 'r')\n",
    "ax.flat[1].errorbar(fsigmas, mk1, yerr=[mk2, mk3])\n",
    "ax.flat[1].set_ylim([1, 2])\n",
    "ax.flat[1].set_xlim([0, 50])"
   ]
  },
  {
   "cell_type": "code",
   "execution_count": 35,
   "metadata": {
    "collapsed": false
   },
   "outputs": [],
   "source": [
    "def rician_correction(dwi, sigma):\n",
    "    \"\"\" Correct Rician bias of DWI volumes\n",
    "\n",
    "    Parameters\n",
    "    ----------\n",
    "    dwi : array ([X, Y, Z, g])\n",
    "        Matrix containing the 4D DWI data.\n",
    "    sigma : float\n",
    "        Estimate of the noise std\n",
    "\n",
    "    Returns\n",
    "    -------\n",
    "    den : array ([X, Y, Z, g])\n",
    "        Matrix containing the corrected 4D DWI data.\n",
    "    \"\"\"\n",
    "    den = dwi.copy()\n",
    "    for g in range(dwi.shape[3]):\n",
    "        for k in range(dwi.shape[2]):\n",
    "            for j in range(dwi.shape[1]):\n",
    "                for i in range(dwi.shape[0]):\n",
    "                    # Compute eigenvalues for sliding window\n",
    "                    x = dwi[i, j, k, g]\n",
    "                    den[i, j, k, g] =  rician_gt_value(x, sigma[i, j, k])\n",
    "    return den"
   ]
  },
  {
   "cell_type": "code",
   "execution_count": 36,
   "metadata": {
    "collapsed": true
   },
   "outputs": [],
   "source": [
    "# initialize\n",
    "fsigmas = np.array([40.0, 30.0, 20.0, 10.0])\n",
    "dir1 = np.zeros(fsigmas.size)\n",
    "dir2 = np.zeros(dir1.shape)\n",
    "dir3 = np.zeros(dir1.shape)\n",
    "fa1 = np.zeros(dir1.shape)\n",
    "fa2 = np.zeros(dir1.shape)\n",
    "fa3 = np.zeros(dir1.shape)\n",
    "md1 = np.zeros(dir1.shape)\n",
    "md2 = np.zeros(dir1.shape)\n",
    "md3 = np.zeros(dir1.shape)\n",
    "mk1 = np.zeros(dir1.shape)\n",
    "mk2 = np.zeros(dir1.shape)\n",
    "mk3 = np.zeros(dir1.shape)\n",
    "\n",
    "dir10 = np.zeros(dir1.shape)\n",
    "dir20 = np.zeros(dir1.shape)\n",
    "dir30 = np.zeros(dir1.shape)\n",
    "fa10 = np.zeros(dir1.shape)\n",
    "fa20 = np.zeros(dir1.shape)\n",
    "fa30 = np.zeros(dir1.shape)\n",
    "md10 = np.zeros(dir1.shape)\n",
    "md20 = np.zeros(dir1.shape)\n",
    "md30 = np.zeros(dir1.shape)\n",
    "mk10 = np.zeros(dir1.shape)\n",
    "mk20 = np.zeros(dir1.shape)\n",
    "mk30 = np.zeros(dir1.shape)\n",
    "\n",
    "fa_rician = np.zeros(dir1.shape)\n",
    "md_rician = np.zeros(dir1.shape)\n",
    "mk_rician = np.zeros(dir1.shape)\n",
    "\n",
    "fa_gt = np.zeros(dir1.shape)\n",
    "md_gt = np.zeros(dir1.shape)\n",
    "mk_gt = np.zeros(dir1.shape)\n",
    "\n",
    "snr = 15\n",
    "sigma = 50.0 /snr\n",
    "\n",
    "for p in range(4):\n",
    "    # ground truth is now the average of rician noise data\n",
    "    Phantom = fiber_segments_phantom(gtab, fsigmas[p])\n",
    "\n",
    "    dtiFgt0 = dtiM.fit(Phantom)\n",
    "    FAgt0 = dtiFgt0.fa\n",
    "    fa_gt[p] = np.mean(FAgt0[2:-2, 2:-2, 2:-2])\n",
    "    MDgt0 = dtiFgt0.md\n",
    "    md_gt[p] = np.mean(MDgt0[2:-2, 2:-2, 2:-2])\n",
    "    directionsgt0 = dtiFgt0.directions\n",
    "    dkiFgt0 = dkiM.fit(Phantom)\n",
    "    MKgt0 = dkiFgt0.mk()\n",
    "    mk_gt[p] = np.mean(MKgt0[2:-2, 2:-2, 2:-2])\n",
    "\n",
    "    n1 = np.random.normal(0, sigma, size=Phantom.shape)\n",
    "    n2 = np.random.normal(0, sigma, size=Phantom.shape)\n",
    "    Phantom_gt = _add_rician(Phantom.copy(), n1, n2)\n",
    "    \n",
    "    for rep in range(9):\n",
    "        # add noise\n",
    "        n1 = np.random.normal(0, sigma, size=Phantom.shape)\n",
    "        n2 = np.random.normal(0, sigma, size=Phantom.shape)\n",
    "        Phantom_gt = Phantom_gt + _add_rician(Phantom.copy(), n1, n2)\n",
    "    Phantom_gt = Phantom_gt / 10\n",
    "    \n",
    "    dtiFgt1 = dtiM.fit(Phantom_gt)\n",
    "    FAgt1 = dtiFgt1.fa\n",
    "    fa_rician[p] = np.mean(FAgt1[2:-2, 2:-2, 2:-2])\n",
    "    MDgt1 = dtiFgt1.md\n",
    "    md_rician[p] = np.mean(MDgt1[2:-2, 2:-2, 2:-2])\n",
    "    directionsgt1 = dtiFgt1.directions\n",
    "    dkiFgt1 = dkiM.fit(Phantom_gt)\n",
    "    MKgt1 = dkiFgt1.mk()\n",
    "    mk_rician[p] = np.mean(MKgt1[2:-2, 2:-2, 2:-2])\n",
    "\n",
    "    # add noise\n",
    "    n1 = np.random.normal(0, sigma, size=Phantom.shape)\n",
    "    n2 = np.random.normal(0, sigma, size=Phantom.shape)\n",
    "    Phantom_noise = _add_rician(Phantom.copy(), n1, n2)\n",
    "\n",
    "    # denoise and compare\n",
    "    [Pden, sig, ncomps] = pca_denoising(Phantom_noise.copy(), ps=2, overcomplete=True)\n",
    "    dtiF = dtiM.fit(Pden)\n",
    "    FA = dtiF.fa\n",
    "    MD = dtiF.md\n",
    "    directions = dtiF.directions\n",
    "    dkiF = dkiM.fit(Pden)\n",
    "    MK = dkiF.mk()\n",
    "    p1, p2, p3 = evaluate_directions(directions[2:-2, 2:-2, 2:-2], directionsgt1[2:-2, 2:-2, 2:-2])\n",
    "    dir10[p] = p1\n",
    "    dir20[p] = p2\n",
    "    dir30[p] = p3\n",
    "    zzz = np.zeros(FAgt1[2:-2, 2:-2, 2:-2].shape)\n",
    "    p1, p2, p3 = evaluate_metric(FA[2:-2, 2:-2, 2:-2], zzz)\n",
    "    fa10[p] = p1\n",
    "    fa20[p] = p2\n",
    "    fa30[p] = p3\n",
    "    p1, p2, p3 = evaluate_metric(MD[2:-2, 2:-2, 2:-2], zzz)\n",
    "    md10[p] = p1\n",
    "    md20[p] = p2\n",
    "    md30[p] = p3\n",
    "    p1, p2, p3 = evaluate_metric(MK[2:-2, 2:-2, 2:-2], zzz)\n",
    "    mk10[p] = p1\n",
    "    mk20[p] = p2\n",
    "    mk30[p] = p3\n",
    "    \n",
    "    # rician correction and compare\n",
    "    Pdenrician = rician_correction(Pden, sig)\n",
    "    dtiF = dtiM.fit(Pdenrician)\n",
    "    FA = dtiF.fa\n",
    "    MD = dtiF.md\n",
    "    directions = dtiF.directions\n",
    "    dkiF = dkiM.fit(Pdenrician)\n",
    "    MK = dkiF.mk()\n",
    "    p1, p2, p3 = evaluate_directions(directions[2:-2, 2:-2, 2:-2], directionsgt0[2:-2, 2:-2, 2:-2])\n",
    "    dir1[p] = p1\n",
    "    dir2[p] = p2\n",
    "    dir3[p] = p3\n",
    "    p1, p2, p3 = evaluate_metric(FA[2:-2, 2:-2, 2:-2], zzz)\n",
    "    fa1[p] = p1\n",
    "    fa2[p] = p2\n",
    "    fa3[p] = p3\n",
    "    p1, p2, p3 = evaluate_metric(MD[2:-2, 2:-2, 2:-2], zzz)\n",
    "    md1[p] = p1\n",
    "    md2[p] = p2\n",
    "    md3[p] = p3\n",
    "    p1, p2, p3 = evaluate_metric(MK[2:-2, 2:-2, 2:-2], zzz)\n",
    "    mk1[p] = p1\n",
    "    mk2[p] = p2\n",
    "    mk3[p] = p3"
   ]
  },
  {
   "cell_type": "code",
   "execution_count": 37,
   "metadata": {
    "collapsed": false
   },
   "outputs": [
    {
     "data": {
      "text/plain": [
       "<Container object of 3 artists>"
      ]
     },
     "execution_count": 37,
     "metadata": {},
     "output_type": "execute_result"
    },
    {
     "data": {
      "image/png": "[encoded data removed]",
      "text/plain": [
       "<matplotlib.figure.Figure at 0xb9d3198>"
      ]
     },
     "metadata": {},
     "output_type": "display_data"
    }
   ],
   "source": [
    "fig2, ax = plt.subplots(1, 2, figsize=(12, 6))\n",
    "ax.flat[0].set_title('Dir error (no rician correction)')\n",
    "ax.flat[0].errorbar(fsigmas, dir10, yerr=[dir20, dir30])\n",
    "ax.flat[1].set_title('Dir error (rician correction)')\n",
    "ax.flat[1].errorbar(fsigmas, dir1, yerr=[dir2, dir3])"
   ]
  },
  {
   "cell_type": "code",
   "execution_count": 38,
   "metadata": {
    "collapsed": false
   },
   "outputs": [
    {
     "data": {
      "text/plain": [
       "(0, 50)"
      ]
     },
     "execution_count": 38,
     "metadata": {},
     "output_type": "execute_result"
    },
    {
     "data": {
      "image/png": "[encoded data removed]",
      "text/plain": [
       "<matplotlib.figure.Figure at 0xaf65cc0>"
      ]
     },
     "metadata": {},
     "output_type": "display_data"
    }
   ],
   "source": [
    "fig2, ax = plt.subplots(1, 2, figsize=(12, 6))\n",
    "ax.flat[0].set_title('FA (no rician correction)')\n",
    "ax.flat[0].plot(fsigmas, fa_gt, 'black')\n",
    "ax.flat[0].plot(fsigmas, fa_rician, 'r')\n",
    "ax.flat[0].errorbar(fsigmas, fa10, yerr=[fa20, fa30])\n",
    "ax.flat[0].set_ylim([0.8, 0.9])\n",
    "ax.flat[0].set_xlim([0, 50])\n",
    "ax.flat[1].set_title('FA (rician correction)')\n",
    "ax.flat[1].plot(fsigmas, fa_gt, 'black')\n",
    "ax.flat[1].plot(fsigmas, fa_rician, 'r')\n",
    "ax.flat[1].errorbar(fsigmas, fa1, yerr=[fa2, fa3])\n",
    "ax.flat[1].set_ylim([0.8, 0.9])\n",
    "ax.flat[1].set_xlim([0, 50])"
   ]
  },
  {
   "cell_type": "code",
   "execution_count": 39,
   "metadata": {
    "collapsed": false
   },
   "outputs": [
    {
     "data": {
      "text/plain": [
       "(0, 50)"
      ]
     },
     "execution_count": 39,
     "metadata": {},
     "output_type": "execute_result"
    },
    {
     "data": {
      "image/png": "[encoded data removed]",
      "text/plain": [
       "<matplotlib.figure.Figure at 0xd5bca90>"
      ]
     },
     "metadata": {},
     "output_type": "display_data"
    }
   ],
   "source": [
    "fig2, ax = plt.subplots(1, 2, figsize=(12, 6))\n",
    "ax.flat[0].set_title('MD (no rician correction)')\n",
    "ax.flat[0].plot(fsigmas, md_gt, 'black')\n",
    "ax.flat[0].plot(fsigmas, md_rician, 'r')\n",
    "ax.flat[0].errorbar(fsigmas, md10, yerr=[md20, md30])\n",
    "ax.flat[0].set_ylim([0.4e-3, 0.6e-3])\n",
    "ax.flat[0].set_xlim([0, 50])\n",
    "ax.flat[1].set_title('MD (rician correction)')\n",
    "ax.flat[1].plot(fsigmas, md_gt, 'black')\n",
    "ax.flat[1].plot(fsigmas, md_rician, 'r')\n",
    "ax.flat[1].errorbar(fsigmas, md1, yerr=[md2, md3])\n",
    "ax.flat[1].set_ylim([0.4e-3, 0.6e-3])\n",
    "ax.flat[1].set_xlim([0, 50])"
   ]
  },
  {
   "cell_type": "code",
   "execution_count": 40,
   "metadata": {
    "collapsed": false
   },
   "outputs": [
    {
     "data": {
      "text/plain": [
       "(0, 50)"
      ]
     },
     "execution_count": 40,
     "metadata": {},
     "output_type": "execute_result"
    },
    {
     "data": {
      "image/png": "[encoded data removed]",
      "text/plain": [
       "<matplotlib.figure.Figure at 0xbbf66d8>"
      ]
     },
     "metadata": {},
     "output_type": "display_data"
    }
   ],
   "source": [
    "fig2, ax = plt.subplots(1, 2, figsize=(12, 6))\n",
    "ax.flat[0].set_title('MK (no rician correction)')\n",
    "ax.flat[0].plot(fsigmas, mk_gt, 'black')\n",
    "ax.flat[0].plot(fsigmas, mk_rician, 'r')\n",
    "ax.flat[0].errorbar(fsigmas, mk10, yerr=[mk20, mk30])\n",
    "ax.flat[0].set_ylim([1, 2])\n",
    "ax.flat[0].set_xlim([0, 50])\n",
    "\n",
    "ax.flat[1].set_title('MK (rician correction)')\n",
    "ax.flat[1].plot(fsigmas, mk_gt, 'black')\n",
    "ax.flat[1].plot(fsigmas, mk_rician, 'r')\n",
    "ax.flat[1].errorbar(fsigmas, mk1, yerr=[mk2, mk3])\n",
    "ax.flat[1].set_ylim([1, 2])\n",
    "ax.flat[1].set_xlim([0, 50])"
   ]
  },
  {
   "cell_type": "code",
   "execution_count": null,
   "metadata": {
    "collapsed": true
   },
   "outputs": [],
   "source": []
  }
 ],
 "metadata": {
  "kernelspec": {
   "display_name": "Python 2",
   "language": "python",
   "name": "python2"
  },
  "language_info": {
   "codemirror_mode": {
    "name": "ipython",
    "version": 2
   },
   "file_extension": ".py",
   "mimetype": "text/x-python",
   "name": "python",
   "nbconvert_exporter": "python",
   "pygments_lexer": "ipython2",
   "version": "2.7.11"
  }
 },
 "nbformat": 4,
 "nbformat_minor": 0
}
