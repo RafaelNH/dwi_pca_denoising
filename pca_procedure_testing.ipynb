{
 "cells": [
  {
   "cell_type": "code",
   "execution_count": 2,
   "metadata": {
    "collapsed": false
   },
   "outputs": [],
   "source": [
    "# import relevant modules\n",
    "import numpy as np\n",
    "import matplotlib.pyplot as plt\n",
    "import matplotlib\n",
    "import time\n",
    "import sys\n",
    "%matplotlib inline\n",
    "\n",
    "from dipy.core.sphere import disperse_charges, HemiSphere\n",
    "from dipy.core.gradients import gradient_table\n",
    "from dipy.sims.voxel import multi_tensor\n",
    "import dipy.reconst.dti as dti\n",
    "import dipy.reconst.dki as dki\n",
    "\n",
    "from dipy.sims.voxel import (multi_tensor, _add_gaussian, _add_rician,\n",
    "                             _add_rayleigh)\n",
    "\n",
    "from pca_utils import (rfiw_phantom, mp_distribution,\n",
    "                       fiber_segments_phantom, pca_denoising,\n",
    "                       evaluate_directions, evaluate_metric)"
   ]
  },
  {
   "cell_type": "code",
   "execution_count": 3,
   "metadata": {
    "collapsed": true
   },
   "outputs": [],
   "source": [
    "# ---------------------------------------------------------------\n",
    "# acquisition parameters\n",
    "# ---------------------------------------------------------------\n",
    "\n",
    "# Sample 8 diffusion-weighted directions for first shell\n",
    "n_pts = 8\n",
    "theta = np.pi * np.random.rand(n_pts)\n",
    "phi = 2 * np.pi * np.random.rand(n_pts)\n",
    "hsph_initial = HemiSphere(theta=theta, phi=phi)\n",
    "hsph_updated, potential = disperse_charges(hsph_initial, 5000)\n",
    "directions8 = hsph_updated.vertices  # directions for each shell\n",
    "\n",
    "# Sample 30 diffusion-weighted directions for second shell\n",
    "n_pts = 30\n",
    "theta = np.pi * np.random.rand(n_pts)\n",
    "phi = 2 * np.pi * np.random.rand(n_pts)\n",
    "hsph_initial = HemiSphere(theta=theta, phi=phi)\n",
    "hsph_updated, potential = disperse_charges(hsph_initial, 50000)\n",
    "directions30 = hsph_updated.vertices  # directions for each shell\n",
    "\n",
    "# Sample 60 diffusion-weighted directions for second shell\n",
    "n_pts = 60\n",
    "theta = np.pi * np.random.rand(n_pts)\n",
    "phi = 2 * np.pi * np.random.rand(n_pts)\n",
    "hsph_initial = HemiSphere(theta=theta, phi=phi)\n",
    "hsph_updated, potential = disperse_charges(hsph_initial, 50000)\n",
    "directions60 = hsph_updated.vertices  # directions for each shell\n",
    "\n",
    "# Create full dataset parameters\n",
    "bvals = np.hstack((np.zeros(6), 300 * np.ones(8),\n",
    "                   1000 * np.ones(30), 2000 * np.ones(60)))\n",
    "bvecs = np.vstack((np.zeros((6, 3)), directions8, directions30, directions60))\n",
    "gtab = gradient_table(bvals, bvecs)"
   ]
  },
  {
   "cell_type": "code",
   "execution_count": 4,
   "metadata": {
    "collapsed": true
   },
   "outputs": [],
   "source": [
    "dtiM = dti.TensorModel(gtab)\n",
    "dkiM = dki.DiffusionKurtosisModel(gtab)"
   ]
  },
  {
   "cell_type": "code",
   "execution_count": 29,
   "metadata": {
    "collapsed": false
   },
   "outputs": [],
   "source": [
    "fsigmas = np.array([40.0, 30.0, 20.0, 10.0])\n",
    "dir1 = np.zeros(fsigmas.size)\n",
    "dir2 = np.zeros(dir1.shape)\n",
    "dir3 = np.zeros(dir1.shape)\n",
    "fa1 = np.zeros(dir1.shape)\n",
    "fa2 = np.zeros(dir1.shape)\n",
    "fa3 = np.zeros(dir1.shape)\n",
    "md1 = np.zeros(dir1.shape)\n",
    "md2 = np.zeros(dir1.shape)\n",
    "md3 = np.zeros(dir1.shape)\n",
    "mk1 = np.zeros(dir1.shape)\n",
    "mk2 = np.zeros(dir1.shape)\n",
    "mk3 = np.zeros(dir1.shape)\n",
    "sig1 = np.zeros(dir1.shape)\n",
    "sig2 = np.zeros(dir1.shape)\n",
    "sig3 = np.zeros(dir1.shape)\n",
    "ncomps1 = np.zeros(dir1.shape)\n",
    "ncomps2 = np.zeros(dir1.shape)\n",
    "ncomps3 = np.zeros(dir1.shape)\n",
    "\n",
    "snr = 15\n",
    "sigma = 50.0 /snr\n",
    "\n",
    "for p in range(4):\n",
    "    # ground truth is now the average of rician noise data\n",
    "    Phantom = fiber_segments_phantom(gtab, fsigmas[p])\n",
    "\n",
    "    n1 = np.random.normal(0, sigma, size=Phantom.shape)\n",
    "    n2 = np.random.normal(0, sigma, size=Phantom.shape)\n",
    "    Phantom_gt = _add_rician(Phantom.copy(), n1, n2)\n",
    "\n",
    "    for rep in range(9):\n",
    "        # add noise\n",
    "        n1 = np.random.normal(0, sigma, size=Phantom.shape)\n",
    "        n2 = np.random.normal(0, sigma, size=Phantom.shape)\n",
    "        Phantom_gt = Phantom_gt + _add_rician(Phantom.copy(), n1, n2)\n",
    "    Phantom_gt = Phantom_gt / 10\n",
    "    \n",
    "    dtiFgt = dtiM.fit(Phantom_gt)\n",
    "    FAgt = dtiFgt.fa\n",
    "    MDgt = dtiFgt.md \n",
    "    directionsgt = dtiFgt.directions\n",
    "    dkiFgt = dkiM.fit(Phantom_gt)\n",
    "    MKgt = dkiFgt.mk()\n",
    "\n",
    "    # add noise\n",
    "    n1 = np.random.normal(0, sigma, size=Phantom.shape)\n",
    "    n2 = np.random.normal(0, sigma, size=Phantom.shape)\n",
    "    Phantom_noise = _add_rician(Phantom.copy(), n1, n2)\n",
    "\n",
    "    # denoise and compare\n",
    "    [Pden, sig, ncomps] = pca_denoising(Phantom_noise.copy(), psize=2)\n",
    "    dtiF = dtiM.fit(Pden)\n",
    "    FA = dtiF.fa\n",
    "    MD = dtiF.md\n",
    "    directions = dtiF.directions\n",
    "    dkiF = dkiM.fit(Pden)\n",
    "    MK = dkiF.mk()\n",
    "    p1, p2, p3 = evaluate_directions(directions[2:-2, 2:-2, 2:-2], directionsgt[2:-2, 2:-2, 2:-2])\n",
    "    dir1[p] = p1\n",
    "    dir2[p] = p2\n",
    "    dir3[p] = p3\n",
    "    p1, p2, p3 = evaluate_metric(FA[2:-2, 2:-2, 2:-2], FAgt[2:-2, 2:-2, 2:-2])\n",
    "    fa1[p] = p1\n",
    "    fa2[p] = p2\n",
    "    fa3[p] = p3\n",
    "    p1, p2, p3 = evaluate_metric(MD[2:-2, 2:-2, 2:-2], MDgt[2:-2, 2:-2, 2:-2])\n",
    "    md1[p] = p1\n",
    "    md2[p] = p2\n",
    "    md3[p] = p3\n",
    "    p1, p2, p3 = evaluate_metric(MK[2:-2, 2:-2, 2:-2], MKgt[2:-2, 2:-2, 2:-2])\n",
    "    mk1[p] = p1\n",
    "    mk2[p] = p2\n",
    "    mk3[p] = p3\n",
    "    p1, p2, p3 = np.percentile(sig[2:-2, 2:-2, 2:-2], [25, 50, 75])\n",
    "    sig1[p] = p2\n",
    "    sig2[p] = p2 - p1\n",
    "    sig3[p] = p3 - p2\n",
    "    ncomps = Phantom.shape[3] - ncomps\n",
    "    p1, p2, p3 = np.percentile(ncomps[2:-2, 2:-2, 2:-2], [25, 50, 75])\n",
    "    ncomps1[p] = p2\n",
    "    ncomps2[p] = p2 - p1\n",
    "    ncomps3[p] = p3 - p2"
   ]
  },
  {
   "cell_type": "code",
   "execution_count": 37,
   "metadata": {
    "collapsed": false
   },
   "outputs": [
    {
     "data": {
      "image/png": "[encoded data removed]",
      "text/plain": [
       "<matplotlib.figure.Figure at 0xd605400>"
      ]
     },
     "metadata": {},
     "output_type": "display_data"
    }
   ],
   "source": [
    "plt.errorbar(fsigmas, sig1, yerr=[sig2, sig3])\n",
    "plt.axis([0, 50, 2.5, 3.5])\n",
    "plt.xlabel('f sigma')\n",
    "plt.ylabel('sigma')\n",
    "fig = matplotlib.pyplot.gcf()\n",
    "plt.show()"
   ]
  },
  {
   "cell_type": "code",
   "execution_count": 31,
   "metadata": {
    "collapsed": false
   },
   "outputs": [
    {
     "data": {
      "image/png": "[encoded data removed]",
      "text/plain": [
       "<matplotlib.figure.Figure at 0xab0a128>"
      ]
     },
     "metadata": {},
     "output_type": "display_data"
    }
   ],
   "source": [
    "plt.errorbar(fsigmas, ncomps1, yerr=[ncomps2, ncomps3])\n",
    "plt.axis([0, 50, -1, 20])\n",
    "plt.xlabel('f sigma')\n",
    "plt.ylabel('ncomps')\n",
    "fig = matplotlib.pyplot.gcf()\n",
    "plt.show()"
   ]
  },
  {
   "cell_type": "code",
   "execution_count": 42,
   "metadata": {
    "collapsed": false
   },
   "outputs": [
    {
     "data": {
      "image/png": "[encoded data removed]",
      "text/plain": [
       "<matplotlib.figure.Figure at 0xd7db470>"
      ]
     },
     "metadata": {},
     "output_type": "display_data"
    }
   ],
   "source": [
    "plt.errorbar(fsigmas, dir1, yerr=[dir2, dir3])\n",
    "plt.axis([0, 50, 0, 5])\n",
    "plt.xlabel('f sigma')\n",
    "plt.ylabel('dir error')\n",
    "fig = matplotlib.pyplot.gcf()\n",
    "plt.show()"
   ]
  },
  {
   "cell_type": "code",
   "execution_count": 46,
   "metadata": {
    "collapsed": false
   },
   "outputs": [
    {
     "data": {
      "image/png": "[encoded data removed]",
      "text/plain": [
       "<matplotlib.figure.Figure at 0x8f4bcc0>"
      ]
     },
     "metadata": {},
     "output_type": "display_data"
    }
   ],
   "source": [
    "plt.errorbar(fsigmas, fa1, yerr=[fa2, fa3])\n",
    "plt.axis([0, 50, -0.1, 0.1])\n",
    "plt.xlabel('f sigma')\n",
    "plt.ylabel('FA error')\n",
    "fig = matplotlib.pyplot.gcf()\n",
    "plt.show()"
   ]
  },
  {
   "cell_type": "code",
   "execution_count": 48,
   "metadata": {
    "collapsed": false
   },
   "outputs": [
    {
     "data": {
      "image/png": "[encoded data removed]",
      "text/plain": [
       "<matplotlib.figure.Figure at 0x9276390>"
      ]
     },
     "metadata": {},
     "output_type": "display_data"
    }
   ],
   "source": [
    "plt.errorbar(fsigmas, mk1, yerr=[mk2, mk3])\n",
    "plt.axis([0, 50, -0.1, 0.1])\n",
    "plt.xlabel('f sigma')\n",
    "plt.ylabel('MK error')\n",
    "fig = matplotlib.pyplot.gcf()\n",
    "plt.show()"
   ]
  },
  {
   "cell_type": "code",
   "execution_count": null,
   "metadata": {
    "collapsed": false
   },
   "outputs": [],
   "source": []
  },
  {
   "cell_type": "code",
   "execution_count": null,
   "metadata": {
    "collapsed": false
   },
   "outputs": [],
   "source": []
  },
  {
   "cell_type": "code",
   "execution_count": null,
   "metadata": {
    "collapsed": false
   },
   "outputs": [],
   "source": []
  },
  {
   "cell_type": "code",
   "execution_count": null,
   "metadata": {
    "collapsed": true
   },
   "outputs": [],
   "source": []
  }
 ],
 "metadata": {
  "kernelspec": {
   "display_name": "Python 2",
   "language": "python",
   "name": "python2"
  }
 },
 "nbformat": 4,
 "nbformat_minor": 0
}
