{
 "cells": [
  {
   "cell_type": "markdown",
   "metadata": {},
   "source": [
    "Intro (...)"
   ]
  },
  {
   "cell_type": "code",
   "execution_count": 1,
   "metadata": {
    "collapsed": true
   },
   "outputs": [],
   "source": [
    "# import relevant modules\n",
    "import numpy as np\n",
    "import matplotlib.pyplot as plt\n",
    "import matplotlib\n",
    "import time\n",
    "import sys\n",
    "%matplotlib inline\n",
    "\n",
    "from dipy.core.sphere import disperse_charges, HemiSphere\n",
    "from dipy.core.gradients import gradient_table\n",
    "from dipy.sims.voxel import multi_tensor\n",
    "\n",
    "from pca_utils import (rfiw_phantom, mp_distribution)"
   ]
  },
  {
   "cell_type": "code",
   "execution_count": 2,
   "metadata": {
    "collapsed": true
   },
   "outputs": [],
   "source": [
    "# ---------------------------------------------------------------\n",
    "# acquisition parameters\n",
    "# ---------------------------------------------------------------\n",
    "\n",
    "# Let see if the PCA preserves the multi-shell information\n",
    "\n",
    "# Sample 8 diffusion-weighted directions for first shell\n",
    "n_pts = 8\n",
    "theta = np.pi * np.random.rand(n_pts)\n",
    "phi = 2 * np.pi * np.random.rand(n_pts)\n",
    "hsph_initial = HemiSphere(theta=theta, phi=phi)\n",
    "hsph_updated, potential = disperse_charges(hsph_initial, 5000)\n",
    "directions8 = hsph_updated.vertices  # directions for each shell\n",
    "\n",
    "# Sample 30 diffusion-weighted directions for second shell\n",
    "n_pts = 30\n",
    "theta = np.pi * np.random.rand(n_pts)\n",
    "phi = 2 * np.pi * np.random.rand(n_pts)\n",
    "hsph_initial = HemiSphere(theta=theta, phi=phi)\n",
    "hsph_updated, potential = disperse_charges(hsph_initial, 5000)\n",
    "directions30 = hsph_updated.vertices  # directions for each shell\n",
    "\n",
    "# Sample 60 diffusion-weighted directions for second shell\n",
    "n_pts = 60\n",
    "theta = np.pi * np.random.rand(n_pts)\n",
    "phi = 2 * np.pi * np.random.rand(n_pts)\n",
    "hsph_initial = HemiSphere(theta=theta, phi=phi)\n",
    "hsph_updated, potential = disperse_charges(hsph_initial, 5000)\n",
    "directions60 = hsph_updated.vertices  # directions for each shell\n",
    "\n",
    "# Create full dataset parameters\n",
    "# (6 b-values = 0, 8 directions for b-value 300, 30 directions for b-value 1000\n",
    "# and 60 directions for b-value 2000)\n",
    "bvals = np.hstack((np.zeros(6), 300 * np.ones(8),\n",
    "                   1000 * np.ones(30), 2000 * np.ones(60)))\n",
    "bvecs = np.vstack((np.zeros((6, 3)), directions8, directions30, directions60))\n",
    "gtab = gradient_table(bvals, bvecs)"
   ]
  },
  {
   "cell_type": "code",
   "execution_count": 3,
   "metadata": {
    "collapsed": true
   },
   "outputs": [],
   "source": [
    "DWI = rfiw_phantom(gtab, snr=15)"
   ]
  },
  {
   "cell_type": "code",
   "execution_count": 4,
   "metadata": {
    "collapsed": false
   },
   "outputs": [],
   "source": [
    "psize = 2\n",
    "m = (2*psize + 1) ** 3\n",
    "n = DWI.shape[3]\n",
    "k = j = i = 5\n",
    "X = DWI[i - psize: i + psize + 1, j - psize: j + psize + 1,\n",
    "        k - psize: k + psize + 1, :]\n",
    "X = X.reshape(m, n)\n",
    "M = np.mean(X, axis=0)\n",
    "X = X - M\n",
    "[L, W] = np.linalg.eigh(np.dot(X.T, X)/m)"
   ]
  },
  {
   "cell_type": "code",
   "execution_count": 7,
   "metadata": {
    "collapsed": false
   },
   "outputs": [
    {
     "data": {
      "image/png": "[encoded data removed]",
      "text/plain": [
       "<matplotlib.figure.Figure at 0x81aa7b8>"
      ]
     },
     "metadata": {},
     "output_type": "display_data"
    }
   ],
   "source": [
    "sigma = 100.0/15\n",
    "y = n*1.0/m\n",
    "x = np.linspace(0, 500, num=100)\n",
    "p = mp_distribution(x, sigma ** 2, y)\n",
    "plt.plot(x, p, 'b', L, 0.001*np.ones(L.shape), '.r')\n",
    "plt.show()"
   ]
  },
  {
   "cell_type": "code",
   "execution_count": 8,
   "metadata": {
    "collapsed": false
   },
   "outputs": [
    {
     "data": {
      "text/plain": [
       "array([  2.05245704e-01,   2.67376311e-01,   4.44282954e-01,\n",
       "         7.11175117e-01,   7.85213208e-01,   9.72463513e-01,\n",
       "         1.22733954e+00,   1.48235458e+00,   1.74874176e+00,\n",
       "         2.14800973e+00,   2.29441746e+00,   2.60029500e+00,\n",
       "         2.82532015e+00,   3.04108459e+00,   3.05710762e+00,\n",
       "         3.34115595e+00,   3.80010305e+00,   3.96591135e+00,\n",
       "         4.35684466e+00,   4.79917276e+00,   5.08630486e+00,\n",
       "         5.24890948e+00,   5.36699184e+00,   5.94364267e+00,\n",
       "         6.26896329e+00,   6.74512631e+00,   7.00736087e+00,\n",
       "         7.37034617e+00,   8.17357483e+00,   8.33056619e+00,\n",
       "         8.97661728e+00,   9.69229973e+00,   1.01011141e+01,\n",
       "         1.03545160e+01,   1.10111484e+01,   1.13231476e+01,\n",
       "         1.21118689e+01,   1.31588074e+01,   1.36366483e+01,\n",
       "         1.40700212e+01,   1.45333560e+01,   1.46904906e+01,\n",
       "         1.56057582e+01,   1.60948722e+01,   1.72259225e+01,\n",
       "         1.78152265e+01,   1.82348011e+01,   1.86960415e+01,\n",
       "         1.89027458e+01,   2.04272417e+01,   2.12765328e+01,\n",
       "         2.20187697e+01,   2.36234338e+01,   2.47852643e+01,\n",
       "         2.52867776e+01,   2.59924117e+01,   2.68662231e+01,\n",
       "         2.75811474e+01,   2.93650841e+01,   3.04327281e+01,\n",
       "         3.18687922e+01,   3.34844068e+01,   3.41516850e+01,\n",
       "         3.54122122e+01,   3.60500050e+01,   3.66151649e+01,\n",
       "         3.74639351e+01,   3.91706537e+01,   4.09068872e+01,\n",
       "         4.25181943e+01,   4.29836443e+01,   4.33246797e+01,\n",
       "         4.41854015e+01,   4.61877878e+01,   4.76265464e+01,\n",
       "         5.09056811e+01,   5.14848101e+01,   5.26066799e+01,\n",
       "         5.31862169e+01,   5.45866574e+01,   5.71918334e+01,\n",
       "         6.14675700e+01,   6.30398033e+01,   6.50079366e+01,\n",
       "         6.53589316e+01,   6.72873733e+01,   6.85388458e+01,\n",
       "         7.37982100e+01,   7.58643913e+01,   8.04179202e+01,\n",
       "         8.17094011e+01,   8.22165043e+01,   8.44232859e+01,\n",
       "         9.03149095e+01,   9.05959050e+01,   9.35422881e+01,\n",
       "         9.59650387e+01,   1.00887145e+02,   1.04962240e+02,\n",
       "         1.09129699e+02,   1.12079839e+02,   1.16296378e+02,\n",
       "         1.27835125e+02,   2.93293881e+03])"
      ]
     },
     "execution_count": 8,
     "metadata": {},
     "output_type": "execute_result"
    }
   ],
   "source": [
    "L"
   ]
  },
  {
   "cell_type": "code",
   "execution_count": 9,
   "metadata": {
    "collapsed": false
   },
   "outputs": [],
   "source": [
    "DWI = rfiw_phantom(gtab, snr=None)"
   ]
  },
  {
   "cell_type": "code",
   "execution_count": 12,
   "metadata": {
    "collapsed": true
   },
   "outputs": [],
   "source": [
    "psize = 2\n",
    "m = (2*psize + 1) ** 3\n",
    "n = DWI.shape[3]\n",
    "k = j = i = 2\n",
    "X = DWI[i - psize: i + psize + 1, j - psize: j + psize + 1,\n",
    "        k - psize: k + psize + 1, :]\n",
    "X = X.reshape(m, n)\n",
    "M = np.mean(X, axis=0)\n",
    "X = X - M\n",
    "[L, W] = np.linalg.eigh(np.dot(X.T, X)/m)"
   ]
  },
  {
   "cell_type": "code",
   "execution_count": 13,
   "metadata": {
    "collapsed": false
   },
   "outputs": [
    {
     "data": {
      "text/plain": [
       "array([ -3.01694949e-13,  -2.39078454e-13,  -1.52650897e-13,\n",
       "        -1.31882616e-13,  -1.14824842e-13,  -1.09975981e-13,\n",
       "        -1.09895453e-13,  -1.05065719e-13,  -1.00907834e-13,\n",
       "        -9.68469838e-14,  -8.27613751e-14,  -8.09004907e-14,\n",
       "        -7.71926341e-14,  -7.03839325e-14,  -6.67704767e-14,\n",
       "        -6.61917942e-14,  -6.60037979e-14,  -6.15511903e-14,\n",
       "        -5.28660520e-14,  -4.86471205e-14,  -4.75336084e-14,\n",
       "        -4.35555271e-14,  -3.95622456e-14,  -3.72790461e-14,\n",
       "        -3.70797547e-14,  -3.58147797e-14,  -3.21754611e-14,\n",
       "        -3.08831005e-14,  -2.92855350e-14,  -2.51825983e-14,\n",
       "        -2.49231897e-14,  -2.31028716e-14,  -2.18223488e-14,\n",
       "        -2.01144518e-14,  -1.83010508e-14,  -1.76575431e-14,\n",
       "        -1.57122906e-14,  -1.54733265e-14,  -1.28091852e-14,\n",
       "        -1.24044595e-14,  -1.19001730e-14,  -1.15489533e-14,\n",
       "        -8.33318345e-15,  -7.66381495e-15,  -7.40430148e-15,\n",
       "        -4.94223220e-15,  -4.80010081e-15,  -4.63105883e-15,\n",
       "        -3.12583525e-15,  -3.07413406e-15,  -1.50475873e-15,\n",
       "        -1.08991690e-15,  -4.77092541e-16,  -1.27394667e-29,\n",
       "         3.13755039e-30,   2.22426974e-16,   5.00060811e-16,\n",
       "         1.56308193e-15,   1.99274733e-15,   2.32038373e-15,\n",
       "         2.59995233e-15,   3.94523261e-15,   4.42955593e-15,\n",
       "         5.21087683e-15,   5.38929614e-15,   7.44528773e-15,\n",
       "         9.77855365e-15,   1.01200651e-14,   1.06125923e-14,\n",
       "         1.18413390e-14,   1.25005816e-14,   1.51614053e-14,\n",
       "         1.52518669e-14,   1.66813093e-14,   1.74056131e-14,\n",
       "         2.16168129e-14,   2.16993840e-14,   2.57733213e-14,\n",
       "         2.64123565e-14,   2.76454974e-14,   3.65207045e-14,\n",
       "         3.95422463e-14,   4.21093422e-14,   4.21623090e-14,\n",
       "         4.24804188e-14,   4.44876666e-14,   4.86907517e-14,\n",
       "         5.31772067e-14,   5.34435450e-14,   6.08799483e-14,\n",
       "         6.44730458e-14,   6.47206904e-14,   6.97864345e-14,\n",
       "         7.69389874e-14,   8.11957739e-14,   8.89787274e-14,\n",
       "         8.96969616e-14,   9.11864626e-14,   1.03692239e-13,\n",
       "         1.19521213e-13,   1.20961285e-13,   2.11180582e-13,\n",
       "         5.35069740e-13,   2.63109924e+03])"
      ]
     },
     "execution_count": 13,
     "metadata": {},
     "output_type": "execute_result"
    }
   ],
   "source": [
    "L"
   ]
  },
  {
   "cell_type": "code",
   "execution_count": null,
   "metadata": {
    "collapsed": true
   },
   "outputs": [],
   "source": []
  }
 ],
 "metadata": {
  "kernelspec": {
   "display_name": "Python 2",
   "language": "python",
   "name": "python2"
  },
  "language_info": {
   "codemirror_mode": {
    "name": "ipython",
    "version": 2
   },
   "file_extension": ".py",
   "mimetype": "text/x-python",
   "name": "python",
   "nbconvert_exporter": "python",
   "pygments_lexer": "ipython2",
   "version": "2.7.11"
  }
 },
 "nbformat": 4,
 "nbformat_minor": 0
}
