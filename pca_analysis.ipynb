{
 "cells": [
  {
   "cell_type": "markdown",
   "metadata": {},
   "source": []
  },
  {
   "cell_type": "code",
   "execution_count": 1,
   "metadata": {
    "collapsed": false
   },
   "outputs": [],
   "source": [
    "# import relevant modules\n",
    "import numpy as np\n",
    "import matplotlib.pyplot as plt\n",
    "import matplotlib\n",
    "import time\n",
    "import sys\n",
    "%matplotlib inline\n",
    "\n",
    "from dipy.core.sphere import disperse_charges, HemiSphere\n",
    "from dipy.core.gradients import gradient_table\n",
    "from dipy.sims.voxel import multi_tensor\n",
    "\n",
    "from pca_utils import (rfiw_phantom, mp_distribution)"
   ]
  },
  {
   "cell_type": "markdown",
   "metadata": {},
   "source": [
    "First let analyse the PCA information of the fiber immersed in water phantom. This numerical phantom was mathematicaly derived for simple evaluation of diffusion weighted techniques. Although the phantom is only based in one uniform fiber boundle immersed in water, it takes into account fiber heteregoneity by seperately modeling restricted and hindered diffusion components. The phantom also includes free water partial volume effects of voxels located in the boundary between fiber and water.\n",
    "\n",
    "To see how PCA preserves multi-shell information, we artificially generate the data of this phantom based on b-value multi-shell data. The acquisition parameters considered consited on 6 b-values = 0, 8 uniform samples gradient directions for b-value 300 s.mm-2, 30 directions for b-value 1000 s.mm-2, and 60 directions for b-value 2000 s.mm-2."
   ]
  },
  {
   "cell_type": "code",
   "execution_count": 2,
   "metadata": {
    "collapsed": true
   },
   "outputs": [],
   "source": [
    "# ---------------------------------------------------------------\n",
    "# acquisition parameters\n",
    "# ---------------------------------------------------------------\n",
    "\n",
    "# Sample 8 diffusion-weighted directions for first shell\n",
    "n_pts = 8\n",
    "theta = np.pi * np.random.rand(n_pts)\n",
    "phi = 2 * np.pi * np.random.rand(n_pts)\n",
    "hsph_initial = HemiSphere(theta=theta, phi=phi)\n",
    "hsph_updated, potential = disperse_charges(hsph_initial, 5000)\n",
    "directions8 = hsph_updated.vertices  # directions for each shell\n",
    "\n",
    "# Sample 30 diffusion-weighted directions for second shell\n",
    "n_pts = 30\n",
    "theta = np.pi * np.random.rand(n_pts)\n",
    "phi = 2 * np.pi * np.random.rand(n_pts)\n",
    "hsph_initial = HemiSphere(theta=theta, phi=phi)\n",
    "hsph_updated, potential = disperse_charges(hsph_initial, 5000)\n",
    "directions30 = hsph_updated.vertices  # directions for each shell\n",
    "\n",
    "# Sample 60 diffusion-weighted directions for second shell\n",
    "n_pts = 60\n",
    "theta = np.pi * np.random.rand(n_pts)\n",
    "phi = 2 * np.pi * np.random.rand(n_pts)\n",
    "hsph_initial = HemiSphere(theta=theta, phi=phi)\n",
    "hsph_updated, potential = disperse_charges(hsph_initial, 5000)\n",
    "directions60 = hsph_updated.vertices  # directions for each shell\n",
    "\n",
    "# Create full dataset parameters\n",
    "bvals = np.hstack((np.zeros(6), 300 * np.ones(8),\n",
    "                   1000 * np.ones(30), 2000 * np.ones(60)))\n",
    "bvecs = np.vstack((np.zeros((6, 3)), directions8, directions30, directions60))\n",
    "gtab = gradient_table(bvals, bvecs)"
   ]
  },
  {
   "cell_type": "markdown",
   "metadata": {},
   "source": [
    "With the acquisition parameters defined and saved in the gradient table gtab, the phanton data is generated using function rfiw_phantom. Artificial rician noise is added with an nominal SNR of 15 (this snr is defined relative to the water component)."
   ]
  },
  {
   "cell_type": "code",
   "execution_count": 7,
   "metadata": {
    "collapsed": true
   },
   "outputs": [],
   "source": [
    "snr = 15\n",
    "DWI = rfiw_phantom(gtab, snr=snr, noise_type='gaussian')"
   ]
  },
  {
   "cell_type": "markdown",
   "metadata": {},
   "source": [
    "So let analyse how many principal components are relevant for this phantom. For this we compute the eigenvalues of the convariance signal relative to a voxel corresponding to a voxel containing fiber. "
   ]
  },
  {
   "cell_type": "code",
   "execution_count": 8,
   "metadata": {
    "collapsed": false
   },
   "outputs": [
    {
     "name": "stdout",
     "output_type": "stream",
     "text": [
      "[  4.37377677e-01   7.71175704e-01   9.65262620e-01   1.04986287e+00\n",
      "   1.22251378e+00   1.68628226e+00   1.84732536e+00   2.04360763e+00\n",
      "   2.34411402e+00   2.64976561e+00   3.11259586e+00   3.14289570e+00\n",
      "   3.47570582e+00   3.63583827e+00   3.87293942e+00   4.43052535e+00\n",
      "   4.76275898e+00   5.09202421e+00   5.55267037e+00   5.94566718e+00\n",
      "   6.52983955e+00   7.80964679e+00   8.07945298e+00   8.45831669e+00\n",
      "   8.91140148e+00   9.57196849e+00   9.60022225e+00   1.04737312e+01\n",
      "   1.11440578e+01   1.18130716e+01   1.23302391e+01   1.26685243e+01\n",
      "   1.35845974e+01   1.41625513e+01   1.55252521e+01   1.61342766e+01\n",
      "   1.68100941e+01   1.74088686e+01   1.82674532e+01   1.87105729e+01\n",
      "   1.91891844e+01   2.00187522e+01   2.14447896e+01   2.19197732e+01\n",
      "   2.22746702e+01   2.34630095e+01   2.41726081e+01   2.56063049e+01\n",
      "   2.60155172e+01   2.71212855e+01   2.80655391e+01   2.90623642e+01\n",
      "   2.97637283e+01   3.11357377e+01   3.23651315e+01   3.39761704e+01\n",
      "   3.53817293e+01   3.61887291e+01   3.69554663e+01   3.86250426e+01\n",
      "   4.04629650e+01   4.17624349e+01   4.22409114e+01   4.37524979e+01\n",
      "   4.46257315e+01   4.66068782e+01   4.84930171e+01   5.13837158e+01\n",
      "   5.22813164e+01   5.38436325e+01   5.55025072e+01   5.56400930e+01\n",
      "   6.12029649e+01   6.22369760e+01   6.38783903e+01   6.65393469e+01\n",
      "   6.70905534e+01   6.77470819e+01   7.10301346e+01   7.20198385e+01\n",
      "   7.56347177e+01   7.67253262e+01   7.99841727e+01   8.20144074e+01\n",
      "   8.47620728e+01   8.55904899e+01   8.83552917e+01   9.34496549e+01\n",
      "   9.61046375e+01   1.01009709e+02   1.03372921e+02   1.05612022e+02\n",
      "   1.07556974e+02   1.09938794e+02   1.11671165e+02   1.17757546e+02\n",
      "   1.25200955e+02   1.30868835e+02   1.33470237e+02   1.37641508e+02\n",
      "   1.40706545e+02   1.44870070e+02   1.53048829e+02   3.41715628e+03]\n"
     ]
    }
   ],
   "source": [
    "psize = 2\n",
    "m = (2*psize + 1) ** 3\n",
    "n = DWI.shape[3]\n",
    "k = j = i = 5\n",
    "X = DWI[i - psize: i + psize + 1, j - psize: j + psize + 1,\n",
    "        k - psize: k + psize + 1, :]\n",
    "X = X.reshape(m, n)\n",
    "M = np.mean(X, axis=0)\n",
    "X = X - M\n",
    "[L, W] = np.linalg.eigh(np.dot(X.T, X)/m)\n",
    "print(L)"
   ]
  },
  {
   "cell_type": "markdown",
   "metadata": {},
   "source": [
    "Only one eigenvalue has an intensity one order of magnitude larger that the others. This tell us that the signal of the selected phantom voxels can be reconstructed based only in one principal component. This make sense since the parameters of phantom were assumed to be uniform. All other eigenvalues are related to data noise. According to the Marchenko–Pastur law the eigenvalues related to noise signals are described by the Marchenko–Pastur distribution. To confirm that apart from the higher eigenvalue all others are related to noise, below we mark all eigenvalues related to the theorically marchenko-pastur distribution."
   ]
  },
  {
   "cell_type": "code",
   "execution_count": 9,
   "metadata": {
    "collapsed": false
   },
   "outputs": [
    {
     "data": {
      "image/png": "[encoded data removed]",
      "text/plain": [
       "<matplotlib.figure.Figure at 0x3365da0>"
      ]
     },
     "metadata": {},
     "output_type": "display_data"
    }
   ],
   "source": [
    "sigma = 100.0/snr\n",
    "sig2 = sigma ** 2\n",
    "y = n*1.0/m\n",
    "x = np.linspace(0, 500, num=100)\n",
    "p = mp_distribution(x, sig2, y)\n",
    "plt.plot(x, p, 'b', L, 0.001*np.ones(L.shape), '.r')\n",
    "plt.axis([-10, 400, 0, 0.05])\n",
    "plt.show()"
   ]
  },
  {
   "cell_type": "markdown",
   "metadata": {
    "collapsed": false
   },
   "source": [
    "As illustrated on the above figure all lower eigenvalues range on the non-zero regime of the theoritically MP distribution."
   ]
  },
  {
   "cell_type": "markdown",
   "metadata": {
    "collapsed": false
   },
   "source": [
    "Now I will analyse if assuming the MP distribution one can estimate the noise variance from data. For this lets define the sum of MP distribution sampled given the data's eigenvalue as function of its variance and plot this given an arbituary range of unknow variances. "
   ]
  },
  {
   "cell_type": "code",
   "execution_count": 10,
   "metadata": {
    "collapsed": false
   },
   "outputs": [
    {
     "name": "stdout",
     "output_type": "stream",
     "text": [
      "1.11950804545\n"
     ]
    },
    {
     "data": {
      "image/png": "[encoded data removed]",
      "text/plain": [
       "<matplotlib.figure.Figure at 0x3365fd0>"
      ]
     },
     "metadata": {},
     "output_type": "display_data"
    }
   ],
   "source": [
    "#rmp = lambda v: np.sum(mp_distribution(L, v, y))\n",
    "\n",
    "# sum of MP distribution samples is not working (I tried also likelihood)\n",
    "# and momentum fit (mean)\n",
    "def mp_var_likelihood(x, var, y):\n",
    "    xpos = var*(1+np.sqrt(y))**2\n",
    "    #p = mp_distribution(x, var, y)\n",
    "    return var - np.mean(x[x<xpos])\n",
    "print mp_var_likelihood(L, sig2, y)\n",
    "\n",
    "var_samples = np.linspace(1, 50, num=1000)\n",
    "rmp_samples = np.empty(var_samples.shape)\n",
    "\n",
    "for i in range(var_samples.size):\n",
    "    rmp_samples[i] = mp_var_likelihood(L, var_samples[i], y)\n",
    "plt.plot(var_samples, rmp_samples, var_samples, np.zeros(var_samples.shape))\n",
    "plt.show()"
   ]
  },
  {
   "cell_type": "markdown",
   "metadata": {},
   "source": [
    "None of the strategies was able to correctly predict the right value of sigma"
   ]
  },
  {
   "cell_type": "code",
   "execution_count": 11,
   "metadata": {
    "collapsed": false
   },
   "outputs": [
    {
     "data": {
      "image/png": "[encoded data removed]",
      "text/plain": [
       "<matplotlib.figure.Figure at 0x81b16d8>"
      ]
     },
     "metadata": {},
     "output_type": "display_data"
    },
    {
     "name": "stdout",
     "output_type": "stream",
     "text": [
      "3.9995917142\n"
     ]
    }
   ],
   "source": [
    "# This is just to check that mean of MP distribution is\n",
    "# sigma 2\n",
    "var = 4\n",
    "y = n*1.0/m\n",
    "smax = 50\n",
    "snum = 10000\n",
    "x = np.linspace(0, smax, num=snum)\n",
    "p = mp_distribution(x, var, y)\n",
    "plt.plot(x, p, 'b', x, 0.001*np.ones(x.shape), '.r')\n",
    "plt.axis([-10, 50, 0, 0.5])\n",
    "plt.show()\n",
    "\n",
    "print(np.sum(x * p) * smax/snum)"
   ]
  },
  {
   "cell_type": "code",
   "execution_count": null,
   "metadata": {
    "collapsed": false
   },
   "outputs": [],
   "source": []
  },
  {
   "cell_type": "code",
   "execution_count": 10,
   "metadata": {
    "collapsed": true
   },
   "outputs": [],
   "source": []
  },
  {
   "cell_type": "code",
   "execution_count": 14,
   "metadata": {
    "collapsed": false
   },
   "outputs": [],
   "source": [
    "a = mp_var_likelihood(L, sigma ** 2, 103.0/125)"
   ]
  },
  {
   "cell_type": "code",
   "execution_count": 15,
   "metadata": {
    "collapsed": false
   },
   "outputs": [
    {
     "data": {
      "text/plain": [
       "18.446768197113073"
      ]
     },
     "execution_count": 15,
     "metadata": {},
     "output_type": "execute_result"
    }
   ],
   "source": [
    "a"
   ]
  },
  {
   "cell_type": "code",
   "execution_count": 7,
   "metadata": {
    "collapsed": false
   },
   "outputs": [
    {
     "data": {
      "text/plain": [
       "44.44444444444445"
      ]
     },
     "execution_count": 7,
     "metadata": {},
     "output_type": "execute_result"
    }
   ],
   "source": [
    "sig2"
   ]
  },
  {
   "cell_type": "code",
   "execution_count": 41,
   "metadata": {
    "collapsed": false
   },
   "outputs": [
    {
     "data": {
      "text/plain": [
       "5.0341721064544016"
      ]
     },
     "execution_count": 41,
     "metadata": {},
     "output_type": "execute_result"
    }
   ],
   "source": [
    "a/(2*np.pi*y)"
   ]
  },
  {
   "cell_type": "code",
   "execution_count": 42,
   "metadata": {
    "collapsed": false
   },
   "outputs": [],
   "source": [
    "sigma = 100.0/snr"
   ]
  },
  {
   "cell_type": "code",
   "execution_count": 60,
   "metadata": {
    "collapsed": false
   },
   "outputs": [
    {
     "data": {
      "text/plain": [
       "11.111111111111112"
      ]
     },
     "execution_count": 60,
     "metadata": {},
     "output_type": "execute_result"
    }
   ],
   "source": [
    "sigma ** 2"
   ]
  },
  {
   "cell_type": "markdown",
   "metadata": {},
   "source": []
  },
  {
   "cell_type": "code",
   "execution_count": null,
   "metadata": {
    "collapsed": false
   },
   "outputs": [],
   "source": []
  },
  {
   "cell_type": "code",
   "execution_count": null,
   "metadata": {
    "collapsed": false
   },
   "outputs": [],
   "source": []
  },
  {
   "cell_type": "code",
   "execution_count": null,
   "metadata": {
    "collapsed": false
   },
   "outputs": [],
   "source": []
  },
  {
   "cell_type": "code",
   "execution_count": null,
   "metadata": {
    "collapsed": true
   },
   "outputs": [],
   "source": []
  }
 ],
 "metadata": {
  "kernelspec": {
   "display_name": "Python 2",
   "language": "python",
   "name": "python2"
  },
  "language_info": {
   "codemirror_mode": {
    "name": "ipython",
    "version": 2
   },
   "file_extension": ".py",
   "mimetype": "text/x-python",
   "name": "python",
   "nbconvert_exporter": "python",
   "pygments_lexer": "ipython2",
   "version": "2.7.11"
  }
 },
 "nbformat": 4,
 "nbformat_minor": 0
}
