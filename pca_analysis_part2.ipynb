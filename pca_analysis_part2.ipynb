{
 "cells": [
  {
   "cell_type": "markdown",
   "metadata": {},
   "source": [
    "# PCA analysis number of components needed to preserve diffusion"
   ]
  },
  {
   "cell_type": "markdown",
   "metadata": {},
   "source": [
    "Lets look to the fiber segments phantom principal components when noise is added"
   ]
  },
  {
   "cell_type": "code",
   "execution_count": 1,
   "metadata": {
    "collapsed": true
   },
   "outputs": [],
   "source": [
    "# import relevant modules\n",
    "import numpy as np\n",
    "import matplotlib.pyplot as plt\n",
    "import matplotlib\n",
    "import time\n",
    "import sys\n",
    "%matplotlib inline\n",
    "\n",
    "from dipy.core.sphere import disperse_charges, HemiSphere\n",
    "from dipy.core.gradients import gradient_table\n",
    "from dipy.sims.voxel import multi_tensor\n",
    "import dipy.reconst.dti as dti\n",
    "import dipy.reconst.dki as dki\n",
    "\n",
    "from pca_utils import (rfiw_phantom, mp_distribution, fiber_segments_phantom)"
   ]
  },
  {
   "cell_type": "code",
   "execution_count": 2,
   "metadata": {
    "collapsed": true
   },
   "outputs": [],
   "source": [
    "# ---------------------------------------------------------------\n",
    "# acquisition parameters\n",
    "# ---------------------------------------------------------------\n",
    "\n",
    "# Sample 8 diffusion-weighted directions for first shell\n",
    "n_pts = 8\n",
    "theta = np.pi * np.random.rand(n_pts)\n",
    "phi = 2 * np.pi * np.random.rand(n_pts)\n",
    "hsph_initial = HemiSphere(theta=theta, phi=phi)\n",
    "hsph_updated, potential = disperse_charges(hsph_initial, 5000)\n",
    "directions8 = hsph_updated.vertices  # directions for each shell\n",
    "\n",
    "# Sample 30 diffusion-weighted directions for second shell\n",
    "n_pts = 30\n",
    "theta = np.pi * np.random.rand(n_pts)\n",
    "phi = 2 * np.pi * np.random.rand(n_pts)\n",
    "hsph_initial = HemiSphere(theta=theta, phi=phi)\n",
    "hsph_updated, potential = disperse_charges(hsph_initial, 50000)\n",
    "directions30 = hsph_updated.vertices  # directions for each shell\n",
    "\n",
    "# Sample 60 diffusion-weighted directions for second shell\n",
    "n_pts = 60\n",
    "theta = np.pi * np.random.rand(n_pts)\n",
    "phi = 2 * np.pi * np.random.rand(n_pts)\n",
    "hsph_initial = HemiSphere(theta=theta, phi=phi)\n",
    "hsph_updated, potential = disperse_charges(hsph_initial, 50000)\n",
    "directions60 = hsph_updated.vertices  # directions for each shell\n",
    "\n",
    "# Create full dataset parameters\n",
    "bvals = np.hstack((np.zeros(6), 300 * np.ones(8),\n",
    "                   1000 * np.ones(30), 2000 * np.ones(60)))\n",
    "bvecs = np.vstack((np.zeros((6, 3)), directions8, directions30, directions60))\n",
    "gtab = gradient_table(bvals, bvecs)"
   ]
  },
  {
   "cell_type": "markdown",
   "metadata": {},
   "source": [
    "Lets generated the phantom"
   ]
  },
  {
   "cell_type": "code",
   "execution_count": 3,
   "metadata": {
    "collapsed": false
   },
   "outputs": [],
   "source": [
    "fsigma = 20.0\n",
    "Phantom = fiber_segments_phantom(gtab, fsigma)"
   ]
  },
  {
   "cell_type": "markdown",
   "metadata": {},
   "source": [
    "Add noise"
   ]
  },
  {
   "cell_type": "code",
   "execution_count": 4,
   "metadata": {
    "collapsed": true
   },
   "outputs": [],
   "source": [
    "from dipy.sims.voxel import (multi_tensor, _add_gaussian, _add_rician,\n",
    "                             _add_rayleigh)\n",
    "snr = 15\n",
    "sigma = 50.0 /snr\n",
    "n1 = np.random.normal(0, sigma, size=Phantom.shape)\n",
    "n2 = np.random.normal(0, sigma, size=Phantom.shape)\n",
    "PDen = _add_rician(Phantom.copy(), n1, n2)"
   ]
  },
  {
   "cell_type": "markdown",
   "metadata": {},
   "source": [
    "Look to eigenvalues of one voxel"
   ]
  },
  {
   "cell_type": "code",
   "execution_count": 5,
   "metadata": {
    "collapsed": false
   },
   "outputs": [
    {
     "data": {
      "image/png": "[encoded data removed]",
      "text/plain": [
       "<matplotlib.figure.Figure at 0x3696358>"
      ]
     },
     "metadata": {},
     "output_type": "display_data"
    }
   ],
   "source": [
    "psize = 2\n",
    "m = (2*psize + 1) ** 3\n",
    "n = PDen.shape[3]\n",
    "k = j = i = 2\n",
    "X = PDen[i - psize: i + psize + 1, j - psize: j + psize + 1,\n",
    "         k - psize: k + psize + 1, :]\n",
    "X = X.reshape(m, n)\n",
    "M = np.mean(X, axis=0)\n",
    "X = X - M\n",
    "[L, W] = np.linalg.eigh(np.dot(X.T, X)/m)\n",
    "\n",
    "y = n*1.0/m\n",
    "x = np.linspace(0, 500, num=100)\n",
    "plt.plot(L, 0.001*np.ones(L.shape), '.r')\n",
    "plt.axis([-10, 1400, 0, 0.05])\n",
    "plt.show()"
   ]
  },
  {
   "cell_type": "code",
   "execution_count": 6,
   "metadata": {
    "collapsed": false
   },
   "outputs": [
    {
     "name": "stdout",
     "output_type": "stream",
     "text": [
      "(1.0087369733269114, 6)\n"
     ]
    },
    {
     "data": {
      "image/png": "[encoded data removed]",
      "text/plain": [
       "<matplotlib.figure.Figure at 0x36961d0>"
      ]
     },
     "metadata": {},
     "output_type": "display_data"
    }
   ],
   "source": [
    "def mp_var_likelihood(x, var, y):\n",
    "    xpos = var*(1+np.sqrt(y))**2\n",
    "    #p = mp_distribution(x, var, y)\n",
    "    return var - np.mean(x[x<xpos]), np.sum(x>xpos)\n",
    "print mp_var_likelihood(L, sigma ** 2, y)\n",
    "\n",
    "var_samples = np.linspace(1, 20, num=1000)\n",
    "rmp_samples = np.empty(var_samples.shape)\n",
    "nretain = np.empty(var_samples.shape)\n",
    "\n",
    "for i in range(var_samples.size):\n",
    "    rmp_samples[i], nretain[i] = mp_var_likelihood(L, var_samples[i], y)\n",
    "plt.plot(var_samples, rmp_samples, var_samples, np.zeros(var_samples.shape))\n",
    "plt.show()"
   ]
  },
  {
   "cell_type": "code",
   "execution_count": 7,
   "metadata": {
    "collapsed": false
   },
   "outputs": [
    {
     "name": "stdout",
     "output_type": "stream",
     "text": [
      "(0.060087446138075151, 8)\n"
     ]
    }
   ],
   "source": [
    "print mp_var_likelihood(L, 9.6, y)"
   ]
  },
  {
   "cell_type": "code",
   "execution_count": 8,
   "metadata": {
    "collapsed": false
   },
   "outputs": [
    {
     "data": {
      "text/plain": [
       "3.1316130029108002"
      ]
     },
     "execution_count": 8,
     "metadata": {},
     "output_type": "execute_result"
    }
   ],
   "source": [
    "np.sqrt(9.807)"
   ]
  },
  {
   "cell_type": "code",
   "execution_count": 9,
   "metadata": {
    "collapsed": false
   },
   "outputs": [
    {
     "data": {
      "text/plain": [
       "11.111111111111112"
      ]
     },
     "execution_count": 9,
     "metadata": {},
     "output_type": "execute_result"
    }
   ],
   "source": [
    "sigma ** 2"
   ]
  },
  {
   "cell_type": "markdown",
   "metadata": {},
   "source": [
    "Now lets analyse what is the idea number of PCA components to take into account to robustly remove noise however perserving diffusion weigthted directions.\n",
    "\n",
    "Lets first define the dti and dki models."
   ]
  },
  {
   "cell_type": "code",
   "execution_count": 10,
   "metadata": {
    "collapsed": true
   },
   "outputs": [],
   "source": [
    "dtiM = dti.TensorModel(gtab)\n",
    "dkiM = dki.DiffusionKurtosisModel(gtab)"
   ]
  },
  {
   "cell_type": "markdown",
   "metadata": {},
   "source": [
    "Define the functions to evaluate the measures"
   ]
  },
  {
   "cell_type": "code",
   "execution_count": 11,
   "metadata": {
    "collapsed": true
   },
   "outputs": [],
   "source": [
    "def evaluate_directions(directions, gtdirections):\n",
    "    angle = np.zeros(directions.shape[0:3])\n",
    "    for i in range(directions.shape[0]):\n",
    "        for j in range(directions.shape[1]):\n",
    "            for k in range(directions.shape[0]):\n",
    "                v1 = directions[i, j, k]\n",
    "                vr = gtdirections[i, j, k]\n",
    "                angle[i, j, k] = np.arccos(np.abs(v1.dot(vr.T))) * 180.0 / np.pi\n",
    "    p1, p2, p3 = np.percentile(angle, [25 , 50, 75])\n",
    "    return p2, p2 - p1, p3 - p2\n",
    "\n",
    "def evaluate_metric(m, gtm):\n",
    "    err = m - gtm\n",
    "    p1, p2, p3 = np.percentile(err, [25, 50, 75])\n",
    "    return p2, p2 - p1, p3 - p2"
   ]
  },
  {
   "cell_type": "markdown",
   "metadata": {},
   "source": [
    "Define localpca"
   ]
  },
  {
   "cell_type": "code",
   "execution_count": 12,
   "metadata": {
    "collapsed": true
   },
   "outputs": [],
   "source": [
    "def localpca(DWI, psize, nep):\n",
    "    # nep number of elements preserved\n",
    "    m = (2*psize + 1) ** 3\n",
    "    n = DWI.shape[3]\n",
    "    DWIden = np.zeros(DWI.shape)\n",
    "    for k in range(psize, DWI.shape[2] - psize):\n",
    "        for j in range(psize, DWI.shape[1] - psize):\n",
    "            for i in range(psize, DWI.shape[0] - psize):\n",
    "                X = DWI[i - psize: i + psize + 1, j - psize: j + psize + 1,\n",
    "                        k - psize: k + psize + 1, :]\n",
    "                X = X.reshape(m, n)\n",
    "                M = np.mean(X, axis=0)\n",
    "                X = X - M\n",
    "                [L, W] = np.linalg.eigh(np.dot(X.T, X)/m)\n",
    "                Y = X.dot(W[:, -nep:])\n",
    "                X = Y.dot(W[:, -nep:].T)\n",
    "                X = X + M\n",
    "                X = X.reshape(2*psize + 1, 2*psize + 1, 2*psize + 1, n)\n",
    "                DWIden[i, j, k, :] = X[psize, psize, psize]\n",
    "    return DWIden"
   ]
  },
  {
   "cell_type": "code",
   "execution_count": 14,
   "metadata": {
    "collapsed": false
   },
   "outputs": [
    {
     "name": "stdout",
     "output_type": "stream",
     "text": [
      "0\n",
      "1\n",
      "2\n",
      "3\n",
      "4\n",
      "5\n",
      "6\n",
      "7\n",
      "8\n",
      "9\n",
      "10\n",
      "11\n",
      "12\n",
      "13\n",
      "14\n",
      "15\n",
      "16\n",
      "17\n",
      "18\n",
      "19\n",
      "20\n",
      "21\n",
      "0\n",
      "1\n",
      "2\n",
      "3\n",
      "4\n",
      "5\n",
      "6\n",
      "7\n",
      "8\n",
      "9\n",
      "10\n",
      "11\n",
      "12\n",
      "13\n",
      "14\n",
      "15\n",
      "16\n",
      "17\n",
      "18\n",
      "19\n",
      "20\n",
      "21\n",
      "0\n",
      "1\n",
      "2\n",
      "3\n",
      "4\n",
      "5\n",
      "6\n",
      "7\n",
      "8\n",
      "9\n",
      "10\n",
      "11\n",
      "12\n",
      "13\n",
      "14\n",
      "15\n",
      "16\n",
      "17\n",
      "18\n",
      "19\n",
      "20\n",
      "21\n",
      "0\n",
      "1\n",
      "2\n",
      "3\n",
      "4\n",
      "5\n",
      "6\n",
      "7\n",
      "8\n",
      "9\n",
      "10\n",
      "11\n",
      "12\n",
      "13\n",
      "14\n",
      "15\n",
      "16\n",
      "17\n",
      "18\n",
      "19\n",
      "20\n",
      "21\n"
     ]
    }
   ],
   "source": [
    "# initialize\n",
    "fsigmas = np.array([40.0, 30.0, 20.0, 10.0])\n",
    "neps = np.array([1, 2, 3, 4, 5, 6, 7, 8, 9, 10, 11, 12, 13, 15, 20, 25, 30, 40, 50, 70, 90, 104])\n",
    "dir1 = np.zeros((neps.size, fsigmas.size))\n",
    "dir2 = np.zeros(dir1.shape)\n",
    "dir3 = np.zeros(dir1.shape)\n",
    "fa1 = np.zeros(dir1.shape)\n",
    "fa2 = np.zeros(dir1.shape)\n",
    "fa3 = np.zeros(dir1.shape)\n",
    "md1 = np.zeros(dir1.shape)\n",
    "md2 = np.zeros(dir1.shape)\n",
    "md3 = np.zeros(dir1.shape)\n",
    "mk1 = np.zeros(dir1.shape)\n",
    "mk2 = np.zeros(dir1.shape)\n",
    "mk3 = np.zeros(dir1.shape)\n",
    "\n",
    "for p in range(4):\n",
    "    # ground truth\n",
    "    Phantom = fiber_segments_phantom(gtab, fsigmas[p])\n",
    "    dtiFgt = dtiM.fit(Phantom)\n",
    "    FAgt = dtiFgt.fa\n",
    "    MDgt = dtiFgt.md \n",
    "    directionsgt = dtiFgt.directions\n",
    "    dkiFgt = dkiM.fit(Phantom)\n",
    "    MKgt = dkiFgt.mk()\n",
    "\n",
    "    # add noise\n",
    "    snr = 15\n",
    "    sigma = 50.0 /snr\n",
    "    n1 = np.random.normal(0, sigma, size=Phantom.shape)\n",
    "    n2 = np.random.normal(0, sigma, size=Phantom.shape)\n",
    "    Phantom_noise = _add_rician(Phantom.copy(), n1, n2)\n",
    "    \n",
    "    # denoise and compare\n",
    "    for r in range(neps.size):\n",
    "        Pden = localpca(Phantom_noise.copy(), 2, neps[r])\n",
    "        dtiF = dtiM.fit(Pden)\n",
    "        FA = dtiF.fa\n",
    "        MD = dtiF.md\n",
    "        directions = dtiF.directions\n",
    "        dkiF = dkiM.fit(Pden)\n",
    "        MK = dkiF.mk()\n",
    "        p1, p2, p3 = evaluate_directions(directions[2:-2, 2:-2, 2:-2], directionsgt[2:-2, 2:-2, 2:-2])\n",
    "        dir1[r, p] = p1\n",
    "        dir2[r, p] = p2\n",
    "        dir3[r, p] = p3\n",
    "        p1, p2, p3 = evaluate_metric(FA[2:-2, 2:-2, 2:-2], FAgt[2:-2, 2:-2, 2:-2])\n",
    "        fa1[r, p] = p1\n",
    "        fa2[r, p] = p2\n",
    "        fa3[r, p] = p3\n",
    "        p1, p2, p3 = evaluate_metric(MD[2:-2, 2:-2, 2:-2], MDgt[2:-2, 2:-2, 2:-2])\n",
    "        md1[r, p] = p1\n",
    "        md2[r, p] = p2\n",
    "        md3[r, p] = p3\n",
    "        p1, p2, p3 = evaluate_metric(MK[2:-2, 2:-2, 2:-2], MKgt[2:-2, 2:-2, 2:-2])\n",
    "        mk1[r, p] = p1\n",
    "        mk2[r, p] = p2\n",
    "        mk3[r, p] = p3\n",
    "        print r"
   ]
  },
  {
   "cell_type": "code",
   "execution_count": 16,
   "metadata": {
    "collapsed": false
   },
   "outputs": [
    {
     "data": {
      "image/png": "[encoded data removed]",
      "text/plain": [
       "<matplotlib.figure.Figure at 0x9cf3278>"
      ]
     },
     "metadata": {},
     "output_type": "display_data"
    }
   ],
   "source": [
    "colors = {0: 'black', 1: 'r', 2: 'b', 3: 'g'}\n",
    "for p in range(4):\n",
    "    plt.errorbar(neps, dir1[:, p], yerr=[dir2[:, p], dir3[:, p]],\n",
    "                 color=colors[p], ecolor=colors[p],\n",
    "                 label='$f sigma: %f$' % fsigmas[p])\n",
    "plt.axis([0, 20, 0, 30])\n",
    "plt.xlabel('Number of pca components retained')\n",
    "plt.ylabel('Directional Error')\n",
    "plt.legend(loc='center left', bbox_to_anchor=(1, 0.5))\n",
    "fig = matplotlib.pyplot.gcf()\n",
    "fig.set_figwidth(12)\n",
    "plt.show()\n",
    "plt.show()"
   ]
  },
  {
   "cell_type": "markdown",
   "metadata": {},
   "source": [
    "Directional error is reduced when more 5 PCA components are preserved."
   ]
  },
  {
   "cell_type": "code",
   "execution_count": 18,
   "metadata": {
    "collapsed": false
   },
   "outputs": [
    {
     "data": {
      "image/png": "[encoded data removed]",
      "text/plain": [
       "<matplotlib.figure.Figure at 0xa0922b0>"
      ]
     },
     "metadata": {},
     "output_type": "display_data"
    }
   ],
   "source": [
    "colors = {0: 'black', 1: 'r', 2: 'b', 3: 'g'}\n",
    "for p in range(4):\n",
    "    plt.errorbar(neps, fa1[:, p], yerr=[fa2[:, p], fa3[:, p]],\n",
    "                 color=colors[p], ecolor=colors[p],\n",
    "                 label='$f sigma: %f$' % fsigmas[p])\n",
    "plt.xlabel('Number of pca components retained')\n",
    "plt.ylabel('FA Error')\n",
    "plt.legend(loc='center left', bbox_to_anchor=(1, 0.5))\n",
    "plt.axis([0, 110, -0.1, 0.1])\n",
    "fig = matplotlib.pyplot.gcf()\n",
    "fig.set_figwidth(12)\n",
    "plt.show()"
   ]
  },
  {
   "cell_type": "markdown",
   "metadata": {
    "collapsed": false
   },
   "source": [
    "FA variance seem smaller when around 15 components are preserved. "
   ]
  },
  {
   "cell_type": "code",
   "execution_count": 19,
   "metadata": {
    "collapsed": false
   },
   "outputs": [
    {
     "data": {
      "image/png": "[encoded data removed]",
      "text/plain": [
       "<matplotlib.figure.Figure at 0x94c4cc0>"
      ]
     },
     "metadata": {},
     "output_type": "display_data"
    }
   ],
   "source": [
    "colors = {0: 'black', 1: 'r', 2: 'b', 3: 'g'}\n",
    "for p in range(4):\n",
    "    plt.errorbar(neps, mk1[:, p], yerr=[mk2[:, p], mk3[:, p]],\n",
    "                 color=colors[p], ecolor=colors[p],\n",
    "                 label='$f sigma: %f$' % fsigmas[p])\n",
    "plt.xlabel('Number of pca components retained')\n",
    "fig = matplotlib.pyplot.gcf()\n",
    "fig.set_figwidth(12)\n",
    "plt.show()"
   ]
  },
  {
   "cell_type": "markdown",
   "metadata": {},
   "source": [
    "MK variance is also lower when around 15 are preserved however it associated median values are overestimated. This might be an overestimation effect of the Rician nature of noise (see pca analysos part 2)."
   ]
  },
  {
   "cell_type": "markdown",
   "metadata": {},
   "source": [
    "# Additional figures"
   ]
  },
  {
   "cell_type": "code",
   "execution_count": 20,
   "metadata": {
    "collapsed": true
   },
   "outputs": [],
   "source": [
    "from dipy.reconst.dti import color_fa\n",
    "from dipy.viz import fvtk\n",
    "from dipy.data import get_sphere\n",
    "sphere = get_sphere('symmetric724')"
   ]
  },
  {
   "cell_type": "code",
   "execution_count": 21,
   "metadata": {
    "collapsed": false
   },
   "outputs": [],
   "source": [
    "Phantom = fiber_segments_phantom(gtab, 20)\n",
    "\n",
    "dtiFgt = dtiM.fit(Phantom)\n",
    "FAgt = dtiFgt.fa\n",
    "MDgt = dtiFgt.md \n",
    "directionsgt = dtiFgt.directions\n",
    "dkiFgt = dkiM.fit(Phantom)\n",
    "MKgt = dkiFgt.mk()\n",
    "evalsgt = dtiFgt.evals\n",
    "evecsgt = dtiFgt.evecs\n",
    "\n",
    "RGBgt = color_fa(FAgt, evecsgt)\n",
    "\n",
    "ren = fvtk.ren()\n",
    "\n",
    "evalsgt3 = evalsgt[:, :, 3:4]\n",
    "evecsgt3 = evecsgt[:, :, 3:4]\n",
    "\n",
    "cfagt = RGBgt[:, :, 3:4]\n",
    "\n",
    "fvtk.add(ren, fvtk.tensor(evalsgt3, evecsgt3, cfagt, sphere))\n",
    "\n",
    "#print('Saving illustration as tensor_ellipsoids.png')\n",
    "fvtk.record(ren, n_frames=1, out_path='tensor_ellipsoids_gt.png', size=(600, 600))"
   ]
  },
  {
   "cell_type": "code",
   "execution_count": 22,
   "metadata": {
    "collapsed": true
   },
   "outputs": [],
   "source": [
    "fvtk.show(ren, size=(600, 600))"
   ]
  },
  {
   "cell_type": "code",
   "execution_count": 23,
   "metadata": {
    "collapsed": false
   },
   "outputs": [],
   "source": [
    "snr = 15\n",
    "sigma = 50.0 /snr\n",
    "n1 = np.random.normal(0, sigma, size=Phantom.shape)\n",
    "n2 = np.random.normal(0, sigma, size=Phantom.shape)\n",
    "Phantom_noise = _add_rician(Phantom.copy(), n1, n2)\n",
    "\n",
    "dtiFnoise = dtiM.fit(Phantom_noise)\n",
    "FAnoise = dtiFnoise.fa\n",
    "MDnoise = dtiFnoise.md \n",
    "directionsnoise = dtiFnoise.directions\n",
    "dkiFnoise = dkiM.fit(Phantom_noise)\n",
    "MKnoise = dkiFnoise.mk()\n",
    "evalsnoise = dtiFnoise.evals\n",
    "evecsnoise = dtiFnoise.evecs\n",
    "\n",
    "RGBnoise = color_fa(FAnoise, evecsnoise)\n",
    "\n",
    "ren = fvtk.ren()\n",
    "\n",
    "evalsnoise3 = evalsnoise[:, :, 3:4]\n",
    "evecsnoise3 = evecsnoise[:, :, 3:4]\n",
    "\n",
    "cfanoise = RGBgt[:, :, 3:4]\n",
    "\n",
    "fvtk.add(ren, fvtk.tensor(evalsnoise3, evecsnoise3, cfanoise, sphere))\n",
    "\n",
    "#print('Saving illustration as tensor_ellipsoids.png')\n",
    "fvtk.record(ren, n_frames=1, out_path='tensor_ellipsoids_noise.png', size=(600, 600))"
   ]
  },
  {
   "cell_type": "code",
   "execution_count": 24,
   "metadata": {
    "collapsed": true
   },
   "outputs": [],
   "source": [
    "fvtk.show(ren, size=(600, 600))"
   ]
  },
  {
   "cell_type": "code",
   "execution_count": 25,
   "metadata": {
    "collapsed": false
   },
   "outputs": [],
   "source": [
    "Pden = localpca(Phantom_noise.copy(), 2, 10)\n",
    "dtiFden = dtiM.fit(Pden)\n",
    "FAden = dtiFden.fa\n",
    "MDden = dtiFden.md \n",
    "directionsden = dtiFden.directions\n",
    "dkiFden = dkiM.fit(Pden)\n",
    "MKden = dkiFden.mk()\n",
    "evalsden = dtiFden.evals\n",
    "evecsden = dtiFden.evecs\n",
    "\n",
    "RGBden = color_fa(FAden, evecsden)\n",
    "\n",
    "ren = fvtk.ren()\n",
    "\n",
    "evalsden3 = evalsden[:, :, 3:4]\n",
    "evecsden3 = evecsden[:, :, 3:4]\n",
    "\n",
    "cfaden = RGBgt[:, :, 3:4]\n",
    "\n",
    "fvtk.add(ren, fvtk.tensor(evalsden3, evecsden3, cfaden, sphere))\n",
    "\n",
    "#print('Saving illustration as tensor_ellipsoids.png')\n",
    "fvtk.record(ren, n_frames=1, out_path='tensor_ellipsoids_den.png', size=(600, 600))"
   ]
  },
  {
   "cell_type": "code",
   "execution_count": 26,
   "metadata": {
    "collapsed": true
   },
   "outputs": [],
   "source": [
    "fvtk.show(ren, size=(600, 600))"
   ]
  },
  {
   "cell_type": "code",
   "execution_count": 27,
   "metadata": {
    "collapsed": false
   },
   "outputs": [
    {
     "data": {
      "image/png": "[encoded data removed]",
      "text/plain": [
       "<matplotlib.figure.Figure at 0x9bb5e10>"
      ]
     },
     "metadata": {},
     "output_type": "display_data"
    }
   ],
   "source": [
    "fig2, ax = plt.subplots(2, 2, figsize=(12, 12),\n",
    "                        subplot_kw={'xticks': [], 'yticks': []})\n",
    "\n",
    "fig2.subplots_adjust(hspace=0.3, wspace=0.3)\n",
    "\n",
    "ax.flat[0].imshow(FAgt[:, :, 3], cmap='gray', interpolation=\"nearest\", clim=(0.8, 0.9))\n",
    "ax.flat[0].set_title('FAgt')\n",
    "ax.flat[1].imshow(FAnoise[:, :, 3], cmap='gray', interpolation=\"nearest\", clim=(0.8, 0.9))\n",
    "ax.flat[1].set_title('FAnoise')\n",
    "ax.flat[2].imshow(MKgt[:, :, 3], cmap='gray', interpolation=\"nearest\", clim=(1.2, 1.7))\n",
    "ax.flat[2].set_title('MKgt')\n",
    "ax.flat[3].imshow(MKnoise[:, :, 3], cmap='gray', interpolation=\"nearest\", clim=(1.2, 1.7))\n",
    "ax.flat[3].set_title('MKnoise')\n",
    "plt.show()"
   ]
  },
  {
   "cell_type": "code",
   "execution_count": 28,
   "metadata": {
    "collapsed": false
   },
   "outputs": [
    {
     "data": {
      "image/png": "[encoded data removed]",
      "text/plain": [
       "<matplotlib.figure.Figure at 0xccef5f8>"
      ]
     },
     "metadata": {},
     "output_type": "display_data"
    }
   ],
   "source": [
    "fig2, ax = plt.subplots(2, 2, figsize=(12, 12),\n",
    "                        subplot_kw={'xticks': [], 'yticks': []})\n",
    "\n",
    "fig2.subplots_adjust(hspace=0.3, wspace=0.3)\n",
    "\n",
    "ax.flat[0].imshow(FAgt[:, :, 3], cmap='gray', interpolation=\"nearest\", clim=(0.8, 0.9))\n",
    "ax.flat[0].set_title('FAgt')\n",
    "ax.flat[1].imshow(FAden[:, :, 3], cmap='gray', interpolation=\"nearest\", clim=(0.8, 0.9))\n",
    "ax.flat[1].set_title('FAden')\n",
    "ax.flat[2].imshow(MKgt[:, :, 3], cmap='gray', interpolation=\"nearest\", clim=(1.2, 1.7))\n",
    "ax.flat[2].set_title('MKgt')\n",
    "ax.flat[3].imshow(MKden[:, :, 3], cmap='gray', interpolation=\"nearest\", clim=(1.2, 1.7))\n",
    "ax.flat[3].set_title('MKden')\n",
    "plt.show()"
   ]
  },
  {
   "cell_type": "code",
   "execution_count": 29,
   "metadata": {
    "collapsed": false
   },
   "outputs": [
    {
     "data": {
      "text/plain": [
       "0.010067028451276338"
      ]
     },
     "execution_count": 29,
     "metadata": {},
     "output_type": "execute_result"
    }
   ],
   "source": [
    "np.std(MKgt)"
   ]
  },
  {
   "cell_type": "code",
   "execution_count": 30,
   "metadata": {
    "collapsed": false
   },
   "outputs": [
    {
     "data": {
      "text/plain": [
       "0.0997636559890063"
      ]
     },
     "execution_count": 30,
     "metadata": {},
     "output_type": "execute_result"
    }
   ],
   "source": [
    "np.std(MKnoise)"
   ]
  },
  {
   "cell_type": "code",
   "execution_count": 31,
   "metadata": {
    "collapsed": false
   },
   "outputs": [
    {
     "data": {
      "text/plain": [
       "0.036783565444695403"
      ]
     },
     "execution_count": 31,
     "metadata": {},
     "output_type": "execute_result"
    }
   ],
   "source": [
    "np.std(MKden[MKden>0])"
   ]
  },
  {
   "cell_type": "code",
   "execution_count": 32,
   "metadata": {
    "collapsed": false
   },
   "outputs": [
    {
     "data": {
      "image/png": "[encoded data removed]",
      "text/plain": [
       "<matplotlib.figure.Figure at 0xcc8fa90>"
      ]
     },
     "metadata": {},
     "output_type": "display_data"
    }
   ],
   "source": [
    "fig2, ax = plt.subplots(2, 2, figsize=(12, 12),\n",
    "                        subplot_kw={'xticks': [], 'yticks': []})\n",
    "\n",
    "fig2.subplots_adjust(hspace=0.3, wspace=0.3)\n",
    "\n",
    "ax.flat[0].imshow(FAnoise[2:-2, 2:-2, 3], cmap='gray', interpolation=\"nearest\", clim=(0.8, 0.9))\n",
    "ax.flat[0].set_title('FAgt')\n",
    "ax.flat[1].imshow(FAden[2:-2, 2:-2, 3], cmap='gray', interpolation=\"nearest\", clim=(0.8, 0.9))\n",
    "ax.flat[1].set_title('FAden')\n",
    "ax.flat[2].imshow(MKnoise[2:-2, 2:-2, 3], cmap='gray', interpolation=\"nearest\", clim=(1.2, 1.7))\n",
    "ax.flat[2].set_title('MKgt')\n",
    "ax.flat[3].imshow(MKden[2:-2, 2:-2, 3], cmap='gray', interpolation=\"nearest\", clim=(1.2, 1.7))\n",
    "ax.flat[3].set_title('MKden')\n",
    "plt.show()"
   ]
  },
  {
   "cell_type": "code",
   "execution_count": null,
   "metadata": {
    "collapsed": true
   },
   "outputs": [],
   "source": []
  },
  {
   "cell_type": "code",
   "execution_count": null,
   "metadata": {
    "collapsed": true
   },
   "outputs": [],
   "source": []
  }
 ],
 "metadata": {
  "kernelspec": {
   "display_name": "Python 2",
   "language": "python",
   "name": "python2"
  },
  "language_info": {
   "codemirror_mode": {
    "name": "ipython",
    "version": 2
   },
   "file_extension": ".py",
   "mimetype": "text/x-python",
   "name": "python",
   "nbconvert_exporter": "python",
   "pygments_lexer": "ipython2",
   "version": "2.7.11"
  }
 },
 "nbformat": 4,
 "nbformat_minor": 0
}
