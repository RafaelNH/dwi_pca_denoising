{
 "cells": [
  {
   "cell_type": "code",
   "execution_count": 1,
   "metadata": {
    "collapsed": true
   },
   "outputs": [],
   "source": [
    "# import relevant modules\n",
    "import numpy as np\n",
    "import matplotlib.pyplot as plt\n",
    "import matplotlib\n",
    "import time\n",
    "import sys\n",
    "%matplotlib inline\n",
    "\n",
    "from dipy.core.sphere import disperse_charges, HemiSphere\n",
    "from dipy.core.gradients import gradient_table\n",
    "from dipy.sims.voxel import multi_tensor\n",
    "import dipy.reconst.dti as dti\n",
    "import dipy.reconst.dki as dki\n",
    "\n",
    "from dipy.sims.voxel import (multi_tensor, _add_gaussian, _add_rician,\n",
    "                             _add_rayleigh)\n",
    "\n",
    "from pca_utils import (rfiw_phantom, mp_distribution,\n",
    "                       fiber_segments_phantom, evaluate_directions,\n",
    "                       evaluate_metric, pca_noise_classifier,\n",
    "                       pca_denoising)"
   ]
  },
  {
   "cell_type": "code",
   "execution_count": 2,
   "metadata": {
    "collapsed": true
   },
   "outputs": [],
   "source": [
    "def pca_denoising(dwi, ps=2, overcomplete=False):\n",
    "    \"\"\" Denoises DWI volumes using PCA analysis and Marchenko–Pastur\n",
    "    probability theory\n",
    "\n",
    "    Parameters\n",
    "    ----------\n",
    "    dwi : array ([X, Y, Z, g])\n",
    "        Matrix containing the 4D DWI data.\n",
    "    ps : int\n",
    "        Number of neighbour voxels for the PCA analysis.\n",
    "        Default: 2\n",
    "    overcomplete : boolean\n",
    "        If set to True, overcomplete local PCA is computed\n",
    "        Default: False\n",
    "\n",
    "    Returns\n",
    "    -------\n",
    "    den : array ([X, Y, Z, g])\n",
    "        Matrix containing the denoised 4D DWI data.\n",
    "    std : array ([X, Y, Z])\n",
    "        Matrix containing the noise std estimated using\n",
    "        Marchenko-Pastur probability theory.\n",
    "    ncomps : array ([X, Y, Z])\n",
    "        Number of eigenvalues preserved for the denoised\n",
    "        4D data.\n",
    "    \"\"\"\n",
    "    # Compute dimension of neighbour sliding window\n",
    "    m = (2*ps + 1) ** 3\n",
    "\n",
    "    n = dwi.shape[3]\n",
    "    den = np.zeros(dwi.shape)\n",
    "    ncomps = np.zeros(dwi.shape[:3])\n",
    "    sig2 = np.zeros(dwi.shape[:3])\n",
    "    if overcomplete:\n",
    "        wei = np.zeros(dwi.shape)\n",
    "\n",
    "    for k in range(ps, dwi.shape[2] - ps):\n",
    "        for j in range(ps, dwi.shape[1] - ps):\n",
    "            for i in range(ps, dwi.shape[0] - ps):\n",
    "                # Compute eigenvalues for sliding window\n",
    "                X = dwi[i - ps: i + ps + 1, j - ps: j + ps + 1,\n",
    "                        k - ps: k + ps + 1, :]\n",
    "                X = X.reshape(m, n)\n",
    "                M = np.mean(X, axis=0)\n",
    "                X = X - M\n",
    "                [L, W] = np.linalg.eigh(np.dot(X.T, X)/m)\n",
    "\n",
    "                # Find number of noise related eigenvalues\n",
    "                c, sig = pca_noise_classifier(L, m)\n",
    "                ncomps[i, j, k] = n - c\n",
    "                sig2[i, j, k] = sig\n",
    "\n",
    "                # Reconstruct signal without noise components\n",
    "                Y = X.dot(W[:, c:])\n",
    "                X = Y.dot(W[:, c:].T)\n",
    "                X = X + M\n",
    "                X = X.reshape(2*ps + 1, 2*ps + 1, 2*ps + 1, n)\n",
    "\n",
    "                # Overcomplete weighting\n",
    "                if overcomplete:\n",
    "                    w = 1.0 / (1.0 + n - c)\n",
    "                    wei[i - ps: i + ps + 1,\n",
    "                        j - ps: j + ps + 1,\n",
    "                        k - ps: k + ps + 1] = wei[i - ps: i + ps + 1,\n",
    "                                                  j - ps: j + ps + 1,\n",
    "                                                  k - ps: k + ps + 1] + w\n",
    "                    X = X * w\n",
    "                    den[i - ps: i + ps + 1,\n",
    "                        j - ps: j + ps + 1,\n",
    "                        k - ps: k + ps + 1, :] = den[i - ps: i + ps + 1,\n",
    "                                                     j - ps: j + ps + 1,\n",
    "                                                     k - ps: k + ps + 1, :] + X\n",
    "                else:\n",
    "                    den[i, j, k, :] = X[ps, ps, ps]\n",
    "\n",
    "    if overcomplete:\n",
    "        den = den / wei\n",
    "    return den, np.sqrt(sig2), ncomps"
   ]
  },
  {
   "cell_type": "code",
   "execution_count": 3,
   "metadata": {
    "collapsed": true
   },
   "outputs": [],
   "source": [
    "# ---------------------------------------------------------------\n",
    "# acquisition parameters\n",
    "# ---------------------------------------------------------------\n",
    "\n",
    "# Sample 8 diffusion-weighted directions for first shell\n",
    "n_pts = 8\n",
    "theta = np.pi * np.random.rand(n_pts)\n",
    "phi = 2 * np.pi * np.random.rand(n_pts)\n",
    "hsph_initial = HemiSphere(theta=theta, phi=phi)\n",
    "hsph_updated, potential = disperse_charges(hsph_initial, 5000)\n",
    "directions8 = hsph_updated.vertices  # directions for each shell\n",
    "\n",
    "# Sample 30 diffusion-weighted directions for second shell\n",
    "n_pts = 30\n",
    "theta = np.pi * np.random.rand(n_pts)\n",
    "phi = 2 * np.pi * np.random.rand(n_pts)\n",
    "hsph_initial = HemiSphere(theta=theta, phi=phi)\n",
    "hsph_updated, potential = disperse_charges(hsph_initial, 50000)\n",
    "directions30 = hsph_updated.vertices  # directions for each shell\n",
    "\n",
    "# Sample 60 diffusion-weighted directions for second shell\n",
    "n_pts = 60\n",
    "theta = np.pi * np.random.rand(n_pts)\n",
    "phi = 2 * np.pi * np.random.rand(n_pts)\n",
    "hsph_initial = HemiSphere(theta=theta, phi=phi)\n",
    "hsph_updated, potential = disperse_charges(hsph_initial, 50000)\n",
    "directions60 = hsph_updated.vertices  # directions for each shell\n",
    "\n",
    "# Create full dataset parameters\n",
    "bvals = np.hstack((np.zeros(6), 300 * np.ones(8),\n",
    "                   1000 * np.ones(30), 2000 * np.ones(60)))\n",
    "bvecs = np.vstack((np.zeros((6, 3)), directions8, directions30, directions60))\n",
    "gtab = gradient_table(bvals, bvecs)"
   ]
  },
  {
   "cell_type": "code",
   "execution_count": 4,
   "metadata": {
    "collapsed": true
   },
   "outputs": [],
   "source": [
    "dtiM = dti.TensorModel(gtab)\n",
    "dkiM = dki.DiffusionKurtosisModel(gtab)"
   ]
  },
  {
   "cell_type": "code",
   "execution_count": 5,
   "metadata": {
    "collapsed": false
   },
   "outputs": [],
   "source": [
    "fsigmas = np.array([40.0, 30.0, 20.0, 10.0])\n",
    "dir1 = np.zeros(fsigmas.size)\n",
    "dir2 = np.zeros(dir1.shape)\n",
    "dir3 = np.zeros(dir1.shape)\n",
    "fa1 = np.zeros(dir1.shape)\n",
    "fa2 = np.zeros(dir1.shape)\n",
    "fa3 = np.zeros(dir1.shape)\n",
    "md1 = np.zeros(dir1.shape)\n",
    "md2 = np.zeros(dir1.shape)\n",
    "md3 = np.zeros(dir1.shape)\n",
    "mk1 = np.zeros(dir1.shape)\n",
    "mk2 = np.zeros(dir1.shape)\n",
    "mk3 = np.zeros(dir1.shape)\n",
    "sig1 = np.zeros(dir1.shape)\n",
    "sig2 = np.zeros(dir1.shape)\n",
    "sig3 = np.zeros(dir1.shape)\n",
    "ncomps1 = np.zeros(dir1.shape)\n",
    "ncomps2 = np.zeros(dir1.shape)\n",
    "ncomps3 = np.zeros(dir1.shape)\n",
    "\n",
    "odir1 = np.zeros(fsigmas.size)\n",
    "odir2 = np.zeros(dir1.shape)\n",
    "odir3 = np.zeros(dir1.shape)\n",
    "ofa1 = np.zeros(dir1.shape)\n",
    "ofa2 = np.zeros(dir1.shape)\n",
    "ofa3 = np.zeros(dir1.shape)\n",
    "omd1 = np.zeros(dir1.shape)\n",
    "omd2 = np.zeros(dir1.shape)\n",
    "omd3 = np.zeros(dir1.shape)\n",
    "omk1 = np.zeros(dir1.shape)\n",
    "omk2 = np.zeros(dir1.shape)\n",
    "omk3 = np.zeros(dir1.shape)\n",
    "osig1 = np.zeros(dir1.shape)\n",
    "osig2 = np.zeros(dir1.shape)\n",
    "osig3 = np.zeros(dir1.shape)\n",
    "oncomps1 = np.zeros(dir1.shape)\n",
    "oncomps2 = np.zeros(dir1.shape)\n",
    "oncomps3 = np.zeros(dir1.shape)\n",
    "\n",
    "snr = 15\n",
    "sigma = 50.0 /snr\n",
    "\n",
    "for p in range(4):\n",
    "    # ground truth is now the average of rician noise data\n",
    "    Phantom = fiber_segments_phantom(gtab, fsigmas[p])\n",
    "\n",
    "    n1 = np.random.normal(0, sigma, size=Phantom.shape)\n",
    "    n2 = np.random.normal(0, sigma, size=Phantom.shape)\n",
    "    Phantom_gt = _add_rician(Phantom.copy(), n1, n2)\n",
    "\n",
    "    for rep in range(9):\n",
    "        # add noise\n",
    "        n1 = np.random.normal(0, sigma, size=Phantom.shape)\n",
    "        n2 = np.random.normal(0, sigma, size=Phantom.shape)\n",
    "        Phantom_gt = Phantom_gt + _add_rician(Phantom.copy(), n1, n2)\n",
    "    Phantom_gt = Phantom_gt / 10\n",
    "    \n",
    "    dtiFgt = dtiM.fit(Phantom_gt)\n",
    "    FAgt = dtiFgt.fa\n",
    "    MDgt = dtiFgt.md \n",
    "    directionsgt = dtiFgt.directions\n",
    "    dkiFgt = dkiM.fit(Phantom_gt)\n",
    "    MKgt = dkiFgt.mk()\n",
    "\n",
    "    # add noise\n",
    "    n1 = np.random.normal(0, sigma, size=Phantom.shape)\n",
    "    n2 = np.random.normal(0, sigma, size=Phantom.shape)\n",
    "    Phantom_noise = _add_rician(Phantom.copy(), n1, n2)\n",
    "\n",
    "    # denoise and compare\n",
    "    [Pden, sig, ncomps] = pca_denoising(Phantom_noise.copy(), ps=2)\n",
    "    dtiF = dtiM.fit(Pden)\n",
    "    FA = dtiF.fa\n",
    "    MD = dtiF.md\n",
    "    directions = dtiF.directions\n",
    "    dkiF = dkiM.fit(Pden)\n",
    "    MK = dkiF.mk()\n",
    "    p1, p2, p3 = evaluate_directions(directions[2:-2, 2:-2, 2:-2], directionsgt[2:-2, 2:-2, 2:-2])\n",
    "    dir1[p] = p1\n",
    "    dir2[p] = p2\n",
    "    dir3[p] = p3\n",
    "    p1, p2, p3 = evaluate_metric(FA[2:-2, 2:-2, 2:-2], FAgt[2:-2, 2:-2, 2:-2])\n",
    "    fa1[p] = p1\n",
    "    fa2[p] = p2\n",
    "    fa3[p] = p3\n",
    "    p1, p2, p3 = evaluate_metric(MD[2:-2, 2:-2, 2:-2], MDgt[2:-2, 2:-2, 2:-2])\n",
    "    md1[p] = p1\n",
    "    md2[p] = p2\n",
    "    md3[p] = p3\n",
    "    p1, p2, p3 = evaluate_metric(MK[2:-2, 2:-2, 2:-2], MKgt[2:-2, 2:-2, 2:-2])\n",
    "    mk1[p] = p1\n",
    "    mk2[p] = p2\n",
    "    mk3[p] = p3\n",
    "    p1, p2, p3 = np.percentile(sig[2:-2, 2:-2, 2:-2], [25, 50, 75])\n",
    "    sig1[p] = p2\n",
    "    sig2[p] = p2 - p1\n",
    "    sig3[p] = p3 - p2\n",
    "    p1, p2, p3 = np.percentile(ncomps[2:-2, 2:-2, 2:-2], [25, 50, 75])\n",
    "    ncomps1[p] = p2\n",
    "    ncomps2[p] = p2 - p1\n",
    "    ncomps3[p] = p3 - p2\n",
    "    \n",
    "    # overcomplete\n",
    "    [Pden, sig, ncomps] = pca_denoising(Phantom_noise.copy(), ps=2,\n",
    "                                        overcomplete=True)\n",
    "    dtiF = dtiM.fit(Pden)\n",
    "    FA = dtiF.fa\n",
    "    MD = dtiF.md\n",
    "    directions = dtiF.directions\n",
    "    dkiF = dkiM.fit(Pden)\n",
    "    MK = dkiF.mk()\n",
    "    p1, p2, p3 = evaluate_directions(directions, directionsgt)\n",
    "    odir1[p] = p1\n",
    "    odir2[p] = p2\n",
    "    odir3[p] = p3\n",
    "    p1, p2, p3 = evaluate_metric(FA[2:-2, 2:-2, 2:-2], FAgt[2:-2, 2:-2, 2:-2])\n",
    "    ofa1[p] = p1\n",
    "    ofa2[p] = p2\n",
    "    ofa3[p] = p3\n",
    "    p1, p2, p3 = evaluate_metric(MD, MDgt)\n",
    "    omd1[p] = p1\n",
    "    omd2[p] = p2\n",
    "    omd3[p] = p3\n",
    "    p1, p2, p3 = evaluate_metric(MK, MKgt)\n",
    "    omk1[p] = p1\n",
    "    omk2[p] = p2\n",
    "    omk3[p] = p3\n",
    "    p1, p2, p3 = np.percentile(sig[2:-2, 2:-2, 2:-2], [25, 50, 75])\n",
    "    osig1[p] = p2\n",
    "    osig2[p] = p2 - p1\n",
    "    osig3[p] = p3 - p2\n",
    "    p1, p2, p3 = np.percentile(ncomps[2:-2, 2:-2, 2:-2], [25, 50, 75])\n",
    "    oncomps1[p] = p2\n",
    "    oncomps2[p] = p2 - p1\n",
    "    oncomps3[p] = p3 - p2"
   ]
  },
  {
   "cell_type": "code",
   "execution_count": 6,
   "metadata": {
    "collapsed": false
   },
   "outputs": [
    {
     "name": "stderr",
     "output_type": "stream",
     "text": [
      "C:\\Users\\Rafael\\Anaconda\\lib\\site-packages\\matplotlib\\collections.py:590: FutureWarning: elementwise comparison failed; returning scalar instead, but in the future will perform elementwise comparison\n",
      "  if self._edgecolors == str('face'):\n"
     ]
    },
    {
     "data": {
      "image/png": "[encoded data removed]",
      "text/plain": [
       "<matplotlib.figure.Figure at 0x932d4a8>"
      ]
     },
     "metadata": {},
     "output_type": "display_data"
    }
   ],
   "source": [
    "plt.errorbar(fsigmas, sig1, yerr=[sig2, sig3])\n",
    "plt.errorbar(fsigmas, osig1, yerr=[osig2, osig3])\n",
    "plt.axis([0, 50, 2.5, 3.5])\n",
    "plt.xlabel('f sigma')\n",
    "plt.ylabel('sigma')\n",
    "fig = matplotlib.pyplot.gcf()\n",
    "plt.show()"
   ]
  },
  {
   "cell_type": "code",
   "execution_count": 7,
   "metadata": {
    "collapsed": false
   },
   "outputs": [
    {
     "data": {
      "image/png": "[encoded data removed]",
      "text/plain": [
       "<matplotlib.figure.Figure at 0x938b358>"
      ]
     },
     "metadata": {},
     "output_type": "display_data"
    }
   ],
   "source": [
    "plt.errorbar(fsigmas, ncomps1, yerr=[ncomps2, ncomps3])\n",
    "plt.errorbar(fsigmas, oncomps1, yerr=[oncomps2, oncomps3])\n",
    "plt.axis([0, 50, -1, 20])\n",
    "plt.xlabel('f sigma')\n",
    "plt.ylabel('ncomps')\n",
    "fig = matplotlib.pyplot.gcf()\n",
    "plt.show()"
   ]
  },
  {
   "cell_type": "code",
   "execution_count": 8,
   "metadata": {
    "collapsed": false
   },
   "outputs": [
    {
     "data": {
      "image/png": "[encoded data removed]",
      "text/plain": [
       "<matplotlib.figure.Figure at 0x9d63630>"
      ]
     },
     "metadata": {},
     "output_type": "display_data"
    }
   ],
   "source": [
    "plt.errorbar(fsigmas, dir1, yerr=[dir2, dir3])\n",
    "plt.errorbar(fsigmas, odir1, yerr=[odir2, odir3])\n",
    "plt.axis([0, 50, 0, 5])\n",
    "plt.xlabel('f sigma')\n",
    "plt.ylabel('dir error')\n",
    "fig = matplotlib.pyplot.gcf()\n",
    "plt.show()"
   ]
  },
  {
   "cell_type": "code",
   "execution_count": 9,
   "metadata": {
    "collapsed": false
   },
   "outputs": [
    {
     "data": {
      "image/png": "[encoded data removed]",
      "text/plain": [
       "<matplotlib.figure.Figure at 0x98ff828>"
      ]
     },
     "metadata": {},
     "output_type": "display_data"
    }
   ],
   "source": [
    "plt.errorbar(fsigmas, mk1, yerr=[mk2, mk3])\n",
    "plt.errorbar(fsigmas, omk1, yerr=[omk2, omk3])\n",
    "plt.axis([0, 50, -0.05, 0.05])\n",
    "plt.xlabel('f sigma')\n",
    "plt.ylabel('mk error')\n",
    "fig = matplotlib.pyplot.gcf()\n",
    "plt.show()"
   ]
  },
  {
   "cell_type": "code",
   "execution_count": null,
   "metadata": {
    "collapsed": true
   },
   "outputs": [],
   "source": []
  }
 ],
 "metadata": {
  "kernelspec": {
   "display_name": "Python 2",
   "language": "python",
   "name": "python2"
  },
  "language_info": {
   "codemirror_mode": {
    "name": "ipython",
    "version": 2
   },
   "file_extension": ".py",
   "mimetype": "text/x-python",
   "name": "python",
   "nbconvert_exporter": "python",
   "pygments_lexer": "ipython2",
   "version": "2.7.11"
  }
 },
 "nbformat": 4,
 "nbformat_minor": 0
}
