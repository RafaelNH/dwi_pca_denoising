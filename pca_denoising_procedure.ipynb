{
 "cells": [
  {
   "cell_type": "code",
   "execution_count": 1,
   "metadata": {
    "collapsed": true
   },
   "outputs": [],
   "source": [
    "# import relevant modules\n",
    "import numpy as np\n",
    "import matplotlib.pyplot as plt\n",
    "import matplotlib\n",
    "import time\n",
    "import sys\n",
    "%matplotlib inline\n",
    "\n",
    "from dipy.core.sphere import disperse_charges, HemiSphere\n",
    "from dipy.core.gradients import gradient_table\n",
    "from dipy.sims.voxel import multi_tensor\n",
    "import dipy.reconst.dti as dti\n",
    "import dipy.reconst.dki as dki\n",
    "\n",
    "from dipy.sims.voxel import (multi_tensor, _add_gaussian, _add_rician,\n",
    "                             _add_rayleigh)\n",
    "\n",
    "from pca_utils import (rfiw_phantom, mp_distribution, fiber_segments_phantom)"
   ]
  },
  {
   "cell_type": "code",
   "execution_count": 2,
   "metadata": {
    "collapsed": true
   },
   "outputs": [],
   "source": [
    "# ---------------------------------------------------------------\n",
    "# acquisition parameters\n",
    "# ---------------------------------------------------------------\n",
    "\n",
    "# Sample 8 diffusion-weighted directions for first shell\n",
    "n_pts = 8\n",
    "theta = np.pi * np.random.rand(n_pts)\n",
    "phi = 2 * np.pi * np.random.rand(n_pts)\n",
    "hsph_initial = HemiSphere(theta=theta, phi=phi)\n",
    "hsph_updated, potential = disperse_charges(hsph_initial, 5000)\n",
    "directions8 = hsph_updated.vertices  # directions for each shell\n",
    "\n",
    "# Sample 30 diffusion-weighted directions for second shell\n",
    "n_pts = 30\n",
    "theta = np.pi * np.random.rand(n_pts)\n",
    "phi = 2 * np.pi * np.random.rand(n_pts)\n",
    "hsph_initial = HemiSphere(theta=theta, phi=phi)\n",
    "hsph_updated, potential = disperse_charges(hsph_initial, 50000)\n",
    "directions30 = hsph_updated.vertices  # directions for each shell\n",
    "\n",
    "# Sample 60 diffusion-weighted directions for second shell\n",
    "n_pts = 60\n",
    "theta = np.pi * np.random.rand(n_pts)\n",
    "phi = 2 * np.pi * np.random.rand(n_pts)\n",
    "hsph_initial = HemiSphere(theta=theta, phi=phi)\n",
    "hsph_updated, potential = disperse_charges(hsph_initial, 50000)\n",
    "directions60 = hsph_updated.vertices  # directions for each shell\n",
    "\n",
    "# Create full dataset parameters\n",
    "bvals = np.hstack((np.zeros(6), 300 * np.ones(8),\n",
    "                   1000 * np.ones(30), 2000 * np.ones(60)))\n",
    "bvecs = np.vstack((np.zeros((6, 3)), directions8, directions30, directions60))\n",
    "gtab = gradient_table(bvals, bvecs)"
   ]
  },
  {
   "cell_type": "code",
   "execution_count": 26,
   "metadata": {
    "collapsed": false
   },
   "outputs": [],
   "source": [
    "snr = 30\n",
    "DWI = rfiw_phantom(gtab, snr=snr, noise_type='rician')"
   ]
  },
  {
   "cell_type": "code",
   "execution_count": 27,
   "metadata": {
    "collapsed": false
   },
   "outputs": [
    {
     "name": "stdout",
     "output_type": "stream",
     "text": [
      "[  1.05011936e-01   1.22673013e-01   1.83734890e-01   2.17993904e-01\n",
      "   2.48904469e-01   2.77386474e-01   3.45328019e-01   4.38882802e-01\n",
      "   4.92044063e-01   5.18222919e-01   5.85172684e-01   6.16556573e-01\n",
      "   6.79430320e-01   7.56869325e-01   8.60732829e-01   1.00813672e+00\n",
      "   1.11408725e+00   1.12832814e+00   1.16609538e+00   1.31032968e+00\n",
      "   1.42735644e+00   1.49471883e+00   1.60482850e+00   1.74462469e+00\n",
      "   1.96817068e+00   1.99517919e+00   2.18286493e+00   2.35751747e+00\n",
      "   2.38389765e+00   2.68490653e+00   2.76595336e+00   2.88683968e+00\n",
      "   3.10279402e+00   3.23403106e+00   3.38312998e+00   3.48778405e+00\n",
      "   3.56139014e+00   3.94228610e+00   4.02776369e+00   4.23926089e+00\n",
      "   4.38611837e+00   4.63697519e+00   4.70478121e+00   4.79155933e+00\n",
      "   5.29623519e+00   5.46351486e+00   5.53452147e+00   5.80304214e+00\n",
      "   6.02584756e+00   6.41516308e+00   6.57355335e+00   6.88309465e+00\n",
      "   7.09829746e+00   7.38429707e+00   7.67262233e+00   7.92837833e+00\n",
      "   8.07776464e+00   8.38770918e+00   8.54629179e+00   8.94002633e+00\n",
      "   9.12543604e+00   9.49283543e+00   9.80847803e+00   1.00776002e+01\n",
      "   1.06375437e+01   1.09121328e+01   1.11845008e+01   1.18984273e+01\n",
      "   1.23199147e+01   1.25521011e+01   1.28347908e+01   1.32004306e+01\n",
      "   1.35977677e+01   1.40670694e+01   1.44097460e+01   1.49027655e+01\n",
      "   1.53868848e+01   1.55417911e+01   1.57792165e+01   1.67482726e+01\n",
      "   1.69308512e+01   1.79544893e+01   1.81889899e+01   1.84577495e+01\n",
      "   1.90301841e+01   1.91893257e+01   1.99792223e+01   2.10126618e+01\n",
      "   2.12257041e+01   2.14939510e+01   2.21659455e+01   2.38259773e+01\n",
      "   2.45123246e+01   2.47730113e+01   2.55259909e+01   2.66226669e+01\n",
      "   2.80933455e+01   2.86639275e+01   2.95805707e+01   3.17672874e+01\n",
      "   3.20880384e+01   3.33852572e+01   3.54860279e+01   3.30769685e+03]\n"
     ]
    }
   ],
   "source": [
    "psize = 2\n",
    "m = (2*psize + 1) ** 3\n",
    "n = DWI.shape[3]\n",
    "k = j = i = 5\n",
    "X = DWI[i - psize: i + psize + 1, j - psize: j + psize + 1,\n",
    "        k - psize: k + psize + 1, :]\n",
    "X = X.reshape(m, n)\n",
    "M = np.mean(X, axis=0)\n",
    "X = X - M\n",
    "[L, W] = np.linalg.eigh(np.dot(X.T, X)/m)\n",
    "print(L)"
   ]
  },
  {
   "cell_type": "code",
   "execution_count": 5,
   "metadata": {
    "collapsed": true
   },
   "outputs": [],
   "source": [
    "def pca_denoising(dwi, psize=2):\n",
    "    \"\"\" Denoises DWI volumes using PCA analysis and Marchenko–Pastur probability\n",
    "    theory\n",
    "\n",
    "    Parameters\n",
    "    ----------\n",
    "    dwi : array ([X, Y, Z, g])\n",
    "        Matrix containing the 4D DWI data.\n",
    "    psize : int\n",
    "        Number of neighbour voxels for the PCA analysis.\n",
    "        Default: 2\n",
    "\n",
    "    Returns\n",
    "    -------\n",
    "    den : array ([X, Y, Z, g])\n",
    "        Matrix containing the denoised 4D DWI data.\n",
    "    \"\"\"\n",
    "    # Compute dimension of neighbour sliding window\n",
    "    m = (2*psize + 1) ** 3\n",
    "\n",
    "    n = dwi.shape[3]\n",
    "    den = np.zeros(dwi.shape)\n",
    "    for k in range(psize, dwi.shape[2] - psize):\n",
    "        for j in range(psize, dwi.shape[1] - psize):\n",
    "            for i in range(psize, dwi.shape[0] - psize):\n",
    "                # Compute eigenvalues for sliding window\n",
    "                X = dwi[i - psize: i + psize + 1, j - psize: j + psize + 1,\n",
    "                        k - psize: k + psize + 1, :]\n",
    "                X = X.reshape(m, n)\n",
    "                M = np.mean(X, axis=0)\n",
    "                X = X - M\n",
    "                [L, W] = np.linalg.eigh(np.dot(X.T, X)/m)\n",
    "                \n",
    "                Y = X.dot(W[:, -nep:])\n",
    "                X = Y.dot(W[:, -nep:].T)\n",
    "                X = X + M\n",
    "                X = X.reshape(2*psize + 1, 2*psize + 1, 2*psize + 1, n)\n",
    "                den[i, j, k, :] = X[psize, psize, psize]\n",
    "    return den, ncomps, sig"
   ]
  },
  {
   "cell_type": "code",
   "execution_count": 76,
   "metadata": {
    "collapsed": false
   },
   "outputs": [],
   "source": [
    "def pca_noise_classifier(L):\n",
    "    \"\"\" Classify which PCA eigenvalues are related to noise\n",
    "\n",
    "    Parameters\n",
    "    ----------\n",
    "    L : array (n,)\n",
    "        Array containing the PCA eigenvalues.\n",
    "\n",
    "    Returns\n",
    "    -------\n",
    "    p \n",
    "    var \"\"\"\n",
    "    n = L.size\n",
    "    r = np.zeros(n)\n",
    "    a = np.zeros(n)\n",
    "    for c in range(2, n):\n",
    "        sig2 = np.mean(L[:c])\n",
    "        r[c] = L[c] - L[0] - 4*np.sqrt((c + 1)*1.0/125)*sig2\n",
    "        #r[c] = 4*np.sqrt(c*1.0/125)*sig2\n",
    "        #r[c] = sig2\n",
    "        a[c] = L[c] - L[0]\n",
    "    return r, a"
   ]
  },
  {
   "cell_type": "code",
   "execution_count": 79,
   "metadata": {
    "collapsed": false
   },
   "outputs": [
    {
     "name": "stdout",
     "output_type": "stream",
     "text": [
      "[  0.00000000e+00   0.00000000e+00   1.28936511e-02   2.17721213e-02\n",
      "   1.71790749e-02   9.26338476e-02   8.00198263e-02   1.01302001e-01\n",
      "   9.57630240e-02   1.88482483e-01   1.39405529e-01   2.96193486e-01\n",
      "   2.40238878e-01   2.94652703e-01   2.67257083e-01   2.17819631e-01\n",
      "   2.49437328e-01   3.30537860e-01   3.60954961e-01   3.46886104e-01\n",
      "   3.76646467e-01   4.06269293e-01   3.91610805e-01   3.72032494e-01\n",
      "   5.26927774e-01   4.85856904e-01   4.12909391e-01   5.78687812e-01\n",
      "   6.91366262e-01   7.72695968e-01   7.69121088e-01   6.45415599e-01\n",
      "   6.65037540e-01   5.88238397e-01   8.05187558e-01   6.57146811e-01\n",
      "   6.95247437e-01   7.06181399e-01   8.42938369e-01   7.61201023e-01\n",
      "   9.01425648e-01   8.85651672e-01   7.92037879e-01   7.12698513e-01\n",
      "   6.01829164e-01   7.12300592e-01   6.05369087e-01   4.56619149e-01\n",
      "   4.22204501e-01   2.17755605e-01   3.08331144e-01   1.43733719e-01\n",
      "   2.88046610e-01   2.76136672e-01   5.40798468e-02   2.61967317e-02\n",
      "   6.64341189e-02  -1.70141073e-01  -2.04119766e-01  -2.57682778e-01\n",
      "  -9.86000754e-02  -3.59844757e-01  -4.98986968e-01  -6.09549968e-01\n",
      "  -5.92807342e-01  -4.56019037e-01  -5.60764371e-01  -6.36625916e-01\n",
      "  -1.06519567e+00  -1.50943829e+00  -1.37309822e+00  -1.26424997e+00\n",
      "  -1.45483843e+00  -1.46032213e+00  -1.59622186e+00  -1.36211997e+00\n",
      "  -1.72955309e+00  -1.29034488e+00  -1.26692504e+00  -1.78192225e+00\n",
      "  -1.47519196e+00  -1.77238684e+00  -2.12259984e+00  -1.85059506e+00\n",
      "  -1.20322068e+00  -1.66351869e+00  -1.53737538e+00  -1.64897263e+00\n",
      "  -9.95187840e-01  -1.13960931e+00  -7.86738886e-01  -9.05857960e-01\n",
      "  -1.61742195e+00  -5.07778346e-01  -6.03018224e-01  -2.60026984e-01\n",
      "   1.11838834e+00   1.32777712e+00   3.13049636e+00   6.05172686e+01\n",
      "   8.06798404e+01   1.97792611e+02   6.16436384e+02   7.48883252e+02]\n"
     ]
    },
    {
     "data": {
      "text/plain": [
       "[90, 110, -5, 20]"
      ]
     },
     "execution_count": 79,
     "metadata": {},
     "output_type": "execute_result"
    },
    {
     "data": {
      "image/png": "[encoded data removed]",
      "text/plain": [
       "<matplotlib.figure.Figure at 0xa8c5278>"
      ]
     },
     "metadata": {},
     "output_type": "display_data"
    }
   ],
   "source": [
    "print r\n",
    "r, a = pca_noise_classifier(L)\n",
    "plt.plot(range(104), r)\n",
    "plt.plot(range(104), np.zeros(104))\n",
    "plt.axis([90, 110, -5, 20])"
   ]
  },
  {
   "cell_type": "markdown",
   "metadata": {},
   "source": [
    "Test another phaton"
   ]
  },
  {
   "cell_type": "code",
   "execution_count": 50,
   "metadata": {
    "collapsed": false
   },
   "outputs": [],
   "source": [
    "from dipy.sims.voxel import (multi_tensor, _add_gaussian, _add_rician,\n",
    "                             _add_rayleigh)\n",
    "fsigma = 20.0\n",
    "Phantom = fiber_segments_phantom(gtab, fsigma)\n",
    "snr = 15\n",
    "sigma = 50.0 /snr\n",
    "n1 = np.random.normal(0, sigma, size=Phantom.shape)\n",
    "n2 = np.random.normal(0, sigma, size=Phantom.shape)\n",
    "PDen = _add_rician(Phantom.copy(), n1, n2)"
   ]
  },
  {
   "cell_type": "code",
   "execution_count": 51,
   "metadata": {
    "collapsed": false
   },
   "outputs": [],
   "source": [
    "psize = 2\n",
    "m = (2*psize + 1) ** 3\n",
    "n = PDen.shape[3]\n",
    "k = j = i = 5\n",
    "X = PDen[i - psize: i + psize + 1, j - psize: j + psize + 1,\n",
    "        k - psize: k + psize + 1, :]\n",
    "X = X.reshape(m, n)\n",
    "M = np.mean(X, axis=0)\n",
    "X = X - M\n",
    "[L, W] = np.linalg.eigh(np.dot(X.T, X)/m)"
   ]
  },
  {
   "cell_type": "code",
   "execution_count": 69,
   "metadata": {
    "collapsed": false
   },
   "outputs": [
    {
     "name": "stdout",
     "output_type": "stream",
     "text": [
      "[  0.00000000e+00   0.00000000e+00   2.93106373e-02   3.75508237e-02\n",
      "   3.27195467e-02   1.07951908e-01   9.61016631e-02   1.17862150e-01\n",
      "   1.12904993e-01   2.06107967e-01   1.57997708e-01   3.15420620e-01\n",
      "   2.60730195e-01   3.16094193e-01   2.89779444e-01   2.41283714e-01\n",
      "   2.73673884e-01   3.55614995e-01   3.87047460e-01   3.74037487e-01\n",
      "   4.04809720e-01   4.35487704e-01   4.21925202e-01   4.03410977e-01\n",
      "   5.59337776e-01   5.19519533e-01   4.47764159e-01   6.14642894e-01\n",
      "   7.28626855e-01   8.11391576e-01   8.09339413e-01   6.87153049e-01\n",
      "   7.08176076e-01   6.32805849e-01   8.51126130e-01   7.04657254e-01\n",
      "   7.44219793e-01   7.56662242e-01   8.94953363e-01   8.14868668e-01\n",
      "   9.56706783e-01   9.42662112e-01   8.50787982e-01   7.73151548e-01\n",
      "   6.63961335e-01   7.76072989e-01   6.70873051e-01   5.23824189e-01\n",
      "   4.91061254e-01   2.88278186e-01   3.80449550e-01   2.17526814e-01\n",
      "   3.63471104e-01   3.53295294e-01   1.33003532e-01   1.06825545e-01\n",
      "   1.48794485e-01  -8.59935626e-02  -1.18241044e-01  -1.70045686e-01\n",
      "  -9.18402009e-03  -2.68548489e-01  -4.05863684e-01  -5.14606211e-01\n",
      "  -4.96037868e-01  -3.57373810e-01  -4.60153046e-01  -5.34037135e-01\n",
      "  -9.60607488e-01  -1.40293729e+00  -1.26477228e+00  -1.15401060e+00\n",
      "  -1.34260550e+00  -1.34610120e+00  -1.47996503e+00  -1.24381454e+00\n",
      "  -1.60908552e+00  -1.16776088e+00  -1.14205924e+00  -1.65471611e+00\n",
      "  -1.34572054e+00  -1.64052141e+00  -1.98835719e+00  -1.71400268e+00\n",
      "  -1.06415997e+00  -1.52178580e+00  -1.39301546e+00  -1.50189969e+00\n",
      "  -8.45366775e-01  -9.86841249e-01  -6.30992544e-01  -7.46998547e-01\n",
      "  -1.45540997e+00  -3.42690847e-01  -4.34573160e-01  -8.81757962e-02\n",
      "   1.29377863e+00   1.50703334e+00   3.31372898e+00   6.07048777e+01\n",
      "   8.08821426e+01   1.98013289e+02   6.16695890e+02   7.49253349e+02]\n"
     ]
    },
    {
     "data": {
      "text/plain": [
       "[0, 110, -5, 10]"
      ]
     },
     "execution_count": 69,
     "metadata": {},
     "output_type": "execute_result"
    },
    {
     "data": {
      "image/png": "[encoded data removed]",
      "text/plain": [
       "<matplotlib.figure.Figure at 0xd911b70>"
      ]
     },
     "metadata": {},
     "output_type": "display_data"
    }
   ],
   "source": [
    "r, a = pca_noise_classifier(L)\n",
    "print r\n",
    "plt.plot(range(104), r)\n",
    "plt.plot(range(104), np.zeros(104))\n",
    "plt.axis([0, 110, -5, 10])"
   ]
  },
  {
   "cell_type": "code",
   "execution_count": 14,
   "metadata": {
    "collapsed": false
   },
   "outputs": [
    {
     "data": {
      "image/png": "[encoded data removed]",
      "text/plain": [
       "<matplotlib.figure.Figure at 0x8d834a8>"
      ]
     },
     "metadata": {},
     "output_type": "display_data"
    }
   ],
   "source": [
    "y = n*1.0/m\n",
    "x = np.linspace(0, 500, num=100)\n",
    "plt.plot(L, 0.001*np.ones(L.shape), '.r')\n",
    "#plt.axis([-10, 1400, 0, 0.05])\n",
    "plt.show()"
   ]
  },
  {
   "cell_type": "code",
   "execution_count": 56,
   "metadata": {
    "collapsed": false
   },
   "outputs": [
    {
     "data": {
      "text/plain": [
       "3"
      ]
     },
     "execution_count": 56,
     "metadata": {},
     "output_type": "execute_result"
    }
   ],
   "source": [
    "50/15"
   ]
  },
  {
   "cell_type": "code",
   "execution_count": 98,
   "metadata": {
    "collapsed": true
   },
   "outputs": [],
   "source": [
    "def pca_noise_classifier(L, m):\n",
    "    \"\"\" Classify which PCA eigenvalues are related to noise\n",
    "\n",
    "    Parameters\n",
    "    ----------\n",
    "    L : array (n,)\n",
    "        Array containing the PCA eigenvalues.\n",
    "\n",
    "    Returns\n",
    "    -------\n",
    "    c : int\n",
    "        Number of eigenvalues related to noise\n",
    "    sig2 : float\n",
    "        Estimation of the noise variance\n",
    "    \"\"\"\n",
    "    sig2 = np.mean(L)\n",
    "    c = L.size - 1\n",
    "    r = L[c] - L[0] - 4 * np.sqrt((c+1.0) / m) * sig2\n",
    "    while r > 0:\n",
    "        sig2 = np.mean(L[:c])\n",
    "        c = c - 1\n",
    "        r = L[c] - L[0] - 4*np.sqrt((c+1.0) / m) * sig2\n",
    "    return c + 1, sig2"
   ]
  },
  {
   "cell_type": "code",
   "execution_count": 101,
   "metadata": {
    "collapsed": true
   },
   "outputs": [],
   "source": [
    "def pca_denoising(dwi, psize=2):\n",
    "    \"\"\" Denoises DWI volumes using PCA analysis and Marchenko–Pastur\n",
    "    probability theory\n",
    "\n",
    "    Parameters\n",
    "    ----------\n",
    "    dwi : array ([X, Y, Z, g])\n",
    "        Matrix containing the 4D DWI data.\n",
    "    psize : int\n",
    "        Number of neighbour voxels for the PCA analysis.\n",
    "        Default: 2\n",
    "\n",
    "    Returns\n",
    "    -------\n",
    "    den : array ([X, Y, Z, g])\n",
    "        Matrix containing the denoised 4D DWI data.\n",
    "    std : array ([X, Y, Z])\n",
    "        Matrix containing the noise std estimated using\n",
    "        Marchenko-Pastur probability theory.\n",
    "    \"\"\"\n",
    "    # Compute dimension of neighbour sliding window\n",
    "    m = (2*psize + 1) ** 3\n",
    "\n",
    "    n = dwi.shape[3]\n",
    "    den = np.zeros(dwi.shape)\n",
    "    ncomps = np.zeros(dwi.shape[:3])\n",
    "    sig2 = np.zeros(dwi.shape[:3])\n",
    "\n",
    "    for k in range(psize, dwi.shape[2] - psize):\n",
    "        for j in range(psize, dwi.shape[1] - psize):\n",
    "            for i in range(psize, dwi.shape[0] - psize):\n",
    "                # Compute eigenvalues for sliding window\n",
    "                X = dwi[i - psize: i + psize + 1, j - psize: j + psize + 1,\n",
    "                        k - psize: k + psize + 1, :]\n",
    "                X = X.reshape(m, n)\n",
    "                M = np.mean(X, axis=0)\n",
    "                X = X - M\n",
    "                [L, W] = np.linalg.eigh(np.dot(X.T, X)/m)\n",
    "\n",
    "                # Find number of noise related eigenvalues\n",
    "                c, sig = pca_noise_classifier(L, m)\n",
    "                ncomps[i, j, k] = c\n",
    "                sig2[i, j, k] = sig\n",
    "\n",
    "                # Reconstruct signal without noise components\n",
    "                Y = X.dot(W[:, c:])\n",
    "                X = Y.dot(W[:, c:].T)\n",
    "                X = X + M\n",
    "                X = X.reshape(2*psize + 1, 2*psize + 1, 2*psize + 1, n)\n",
    "                den[i, j, k, :] = X[psize, psize, psize]\n",
    "\n",
    "    return den, np.sqrt(sig2), ncomps"
   ]
  },
  {
   "cell_type": "code",
   "execution_count": 102,
   "metadata": {
    "collapsed": false
   },
   "outputs": [
    {
     "name": "stdout",
     "output_type": "stream",
     "text": [
      "96\n",
      "9.63147405761\n"
     ]
    }
   ],
   "source": [
    "c, sig = pca_noise_classifier(L, 125)\n",
    "print c\n",
    "print sig"
   ]
  },
  {
   "cell_type": "code",
   "execution_count": 103,
   "metadata": {
    "collapsed": false
   },
   "outputs": [
    {
     "data": {
      "text/plain": [
       "3.103461624961628"
      ]
     },
     "execution_count": 103,
     "metadata": {},
     "output_type": "execute_result"
    }
   ],
   "source": [
    "np.sqrt(sig)"
   ]
  },
  {
   "cell_type": "code",
   "execution_count": 104,
   "metadata": {
    "collapsed": false
   },
   "outputs": [
    {
     "data": {
      "text/plain": [
       "104"
      ]
     },
     "execution_count": 104,
     "metadata": {},
     "output_type": "execute_result"
    }
   ],
   "source": [
    "L[:104].size"
   ]
  },
  {
   "cell_type": "code",
   "execution_count": 81,
   "metadata": {
    "collapsed": false
   },
   "outputs": [
    {
     "name": "stdout",
     "output_type": "stream",
     "text": [
      "2.0\n"
     ]
    }
   ],
   "source": []
  },
  {
   "cell_type": "code",
   "execution_count": null,
   "metadata": {
    "collapsed": true
   },
   "outputs": [],
   "source": []
  }
 ],
 "metadata": {
  "kernelspec": {
   "display_name": "Python 2",
   "language": "python",
   "name": "python2"
  },
  "language_info": {
   "codemirror_mode": {
    "name": "ipython",
    "version": 2
   },
   "file_extension": ".py",
   "mimetype": "text/x-python",
   "name": "python",
   "nbconvert_exporter": "python",
   "pygments_lexer": "ipython2",
   "version": "2.7.11"
  }
 },
 "nbformat": 4,
 "nbformat_minor": 0
}
